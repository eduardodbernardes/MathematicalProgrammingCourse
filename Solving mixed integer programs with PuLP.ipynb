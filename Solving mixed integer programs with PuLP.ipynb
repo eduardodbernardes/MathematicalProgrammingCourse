{
 "cells": [
  {
   "cell_type": "markdown",
   "metadata": {},
   "source": [
    "# Mathematical programming with Jupyter Notebooks\n",
    "\n",
    "# Solving mixed integer programs with PuLP\n",
    "\n",
    "\n",
    "*Copyright 2016, Pedro Belin Castellucci & Franklina Maria Bragion de Toledo, All rights reserved.*\n",
    "\n",
    "*This Notebook is licenced under GLPv3 (https://opensource.org/licenses/GPL-3.0).*\n",
    "\n",
    "In this notebook, we will learn how to create and solve mixed integer programs with PuLP in Python.\n",
    "We will do this using examples. The first one is as follows:\n",
    "\n",
    "Let $I$ be a set of items, $W = \\{2, 3, 1, 5, 3\\}$ be the multi-set (which allows repetition) of weigths of each item  in $i$ in $I$ and $C=10$ the weight capacity of a recipient. Let us write a model to maximise the number of items to put into the recipient without exceeding the weight capacity.\n",
    "\n",
    "First, we need to define the binary variable $x_i$ which is equal to 1 if item $i$ should be included in the recipient. Then, we can write the model:\n",
    "\n",
    "Max $x_1 + x_2 + x_3 + x_4 + x_5$ \n",
    "\n",
    "s. t.\n",
    "\n",
    "$2x_1 + 3x_2 + 1x_3 + 5x_4 + 3x_5 \\leq 10$\n",
    "\n",
    "$x_1, x_2, x_3, x_4, x_5 \\in \\{0, 1\\}$\n",
    "\n",
    "We will use PuLP to solve this model. The first step is to import the library and create a model object."
   ]
  },
  {
   "cell_type": "code",
   "execution_count": 1,
   "metadata": {},
   "outputs": [
    {
     "name": "stdout",
     "output_type": "stream",
     "text": [
      "Our example:\n",
      "MAXIMIZE\n",
      "None\n",
      "VARIABLES\n",
      "\n"
     ]
    }
   ],
   "source": [
    "import pulp  # Library importing.\n",
    "\n",
    "model = pulp.LpProblem('Our example', pulp.LpMaximize)  # Creating the model object.\n",
    "print model"
   ]
  },
  {
   "cell_type": "markdown",
   "metadata": {},
   "source": [
    "We can see we have created a maximisation model, but it has no variables nor constraints in it so far. We need to create them and add the constraint into the model."
   ]
  },
  {
   "cell_type": "code",
   "execution_count": 2,
   "metadata": {},
   "outputs": [
    {
     "name": "stdout",
     "output_type": "stream",
     "text": [
      "Our example:\n",
      "MAXIMIZE\n",
      "None\n",
      "SUBJECT TO\n",
      "_C1: 2 x1 + 3 x2 + x3 + 5 x4 + 3 x5 <= 10\n",
      "\n",
      "VARIABLES\n",
      "0 <= x1 <= 1 Integer\n",
      "0 <= x2 <= 1 Integer\n",
      "0 <= x3 <= 1 Integer\n",
      "0 <= x4 <= 1 Integer\n",
      "0 <= x5 <= 1 Integer\n",
      "\n"
     ]
    }
   ],
   "source": [
    "# Creating the binary variables:\n",
    "x1 = pulp.LpVariable('x1', cat='Binary')\n",
    "x2 = pulp.LpVariable('x2', cat='Binary')\n",
    "x3 = pulp.LpVariable('x3', cat='Binary')\n",
    "x4 = pulp.LpVariable('x4', cat='Binary')\n",
    "x5 = pulp.LpVariable('x5', cat='Binary')\n",
    "\n",
    "# Adding the constraint into the model:\n",
    "model += 2*x1 + 3*x2 + 1*x3 + 5*x4 + 3*x5 <= 10\n",
    "\n",
    "print model"
   ]
  },
  {
   "cell_type": "markdown",
   "metadata": {},
   "source": [
    "Note that we do not have to add the variables into the model explicitly, PuLP does that automatically, when a constraint (or the objective function) is added to the model. \n",
    "\n",
    "Now, our model has variables and a constraint but it is still missing the objective function."
   ]
  },
  {
   "cell_type": "code",
   "execution_count": 3,
   "metadata": {},
   "outputs": [
    {
     "name": "stdout",
     "output_type": "stream",
     "text": [
      "Our example:\n",
      "MAXIMIZE\n",
      "1*x1 + 1*x2 + 1*x3 + 1*x4 + 1*x5 + 0\n",
      "SUBJECT TO\n",
      "_C1: 2 x1 + 3 x2 + x3 + 5 x4 + 3 x5 <= 10\n",
      "\n",
      "VARIABLES\n",
      "0 <= x1 <= 1 Integer\n",
      "0 <= x2 <= 1 Integer\n",
      "0 <= x3 <= 1 Integer\n",
      "0 <= x4 <= 1 Integer\n",
      "0 <= x5 <= 1 Integer\n",
      "\n"
     ]
    }
   ],
   "source": [
    "# Adding the objective function:\n",
    "model += x1 + x2 + x3 + x4 + x5\n",
    "\n",
    "print model"
   ]
  },
  {
   "cell_type": "markdown",
   "metadata": {},
   "source": [
    "The objective function and constraints are added into the model in a similar fashion. The key difference is the presence (or absence) of a relational operator ('<=' or '>=') for adding constraints (or the objective function). \n",
    "\n",
    "Now we have the model, let us ask PuLP to try to solve it and learn how to check the results."
   ]
  },
  {
   "cell_type": "code",
   "execution_count": 12,
   "metadata": {},
   "outputs": [
    {
     "name": "stdout",
     "output_type": "stream",
     "text": [
      "Optimal solution found! \\o/\n",
      "1\n"
     ]
    }
   ],
   "source": [
    "# Asking PuLP to solve the model:\n",
    "status = model.solve()\n",
    "\n",
    "# Checking the status of the solution:\n",
    "if status == pulp.LpStatusInfeasible:\n",
    "    print 'The model is infeasible!'\n",
    "elif status == pulp.LpStatusUnbounded:\n",
    "    print 'The model is unbounded!'\n",
    "elif status == pulp.LpStatusOptimal:\n",
    "    print 'Optimal solution found! \\o/'\n",
    "else:\n",
    "    print 'Ops! I do not know what happened!'"
   ]
  },
  {
   "cell_type": "markdown",
   "metadata": {},
   "source": [
    "It is always a good idea to check the status of the solution to ensure meaning to the following operations. In our case, PuLP was able to find an optimal solution and we want to know what the solution is. Let us query for the value of the variable and the objective function."
   ]
  },
  {
   "cell_type": "code",
   "execution_count": null,
   "metadata": {},
   "outputs": [],
   "source": [
    "print 'Value of the variables:'\n",
    "for v in model.variables():\n",
    "    print '%s = %d' % (v, v.value())\n",
    "\n",
    "print 'Number of items is %d.' % model.objective.value()"
   ]
  },
  {
   "cell_type": "markdown",
   "metadata": {},
   "source": [
    "As an exercise, you can modify the model in order to get an infeasible solution and an unbounded solution. \n",
    "\n",
    "## Dealing with bigger models\n",
    "\n",
    "So far we have learnt how to create a simple model, trying to solve it and query for results using PuLP. However, in real applications, there is a great ammount of data and models are much bigger than the one we used as an example. Imagine yourself, in our knapsack example, having to write the same constraint for 100 or 1000 items. We need tools to help us write models of some pratical importance. \n",
    "\n",
    "Let us start by creating a bigger example. Now, let $C=100$, the objective is to choose a subset of 100 items with the weigths defined as follows:"
   ]
  },
  {
   "cell_type": "code",
   "execution_count": null,
   "metadata": {},
   "outputs": [],
   "source": [
    "from random import randrange\n",
    "weights = [randrange(1, 20) for _ in range (100)]\n",
    "\n",
    "print weights"
   ]
  },
  {
   "cell_type": "markdown",
   "metadata": {},
   "source": [
    "In order to avoid typing all the weights manually, we will use the *dicts* function of PuLP. Right now, we have a list of weights and we will create another list, *items*, with the indexes of the $x$ variables to our model:"
   ]
  },
  {
   "cell_type": "code",
   "execution_count": null,
   "metadata": {
    "collapsed": true
   },
   "outputs": [],
   "source": [
    "# We need to explicity enumerate the items to use 'dicts' method:\n",
    "items = range(100)"
   ]
  },
  {
   "cell_type": "markdown",
   "metadata": {},
   "source": [
    "Then, we can use the *dicts* function to create all the variables at once:"
   ]
  },
  {
   "cell_type": "code",
   "execution_count": null,
   "metadata": {},
   "outputs": [],
   "source": [
    "# Using the 'dicts' method to create the variables:\n",
    "x = pulp.LpVariable.dicts('x', indexs=items, cat='Binary')"
   ]
  },
  {
   "cell_type": "markdown",
   "metadata": {},
   "source": [
    "The objective function of our model consists of summing over all items. So, that is what we write:"
   ]
  },
  {
   "cell_type": "code",
   "execution_count": null,
   "metadata": {
    "collapsed": true
   },
   "outputs": [],
   "source": [
    "objectiveExpression = sum(x[i] for i in items)"
   ]
  },
  {
   "cell_type": "markdown",
   "metadata": {},
   "source": [
    "And we can do the same for our constraint:"
   ]
  },
  {
   "cell_type": "code",
   "execution_count": null,
   "metadata": {
    "collapsed": true
   },
   "outputs": [],
   "source": [
    "constraintExpression = sum(weights[i]*x[i] for i in items) <= 100"
   ]
  },
  {
   "cell_type": "markdown",
   "metadata": {},
   "source": [
    "Then, we just create the model object, add the expressions we have just created and ask PuLP to try to solve it:"
   ]
  },
  {
   "cell_type": "code",
   "execution_count": null,
   "metadata": {},
   "outputs": [],
   "source": [
    "# Creating the model object:\n",
    "model = pulp.LpProblem('Bigger example', pulp.LpMaximize)\n",
    "\n",
    "# Adding the expressions:\n",
    "model += objectiveExpression\n",
    "model += constraintExpression\n",
    "\n",
    "# Trying to solve it\n",
    "status = model.solve()\n",
    "\n",
    "# Checking the status of the solution:\n",
    "if status == pulp.LpStatusInfeasible:\n",
    "    print 'The model is infeasible!'\n",
    "elif status == pulp.LpStatusUnbounded:\n",
    "    print 'The model is unbounded!'\n",
    "elif status == pulp.LpStatusOptimal:\n",
    "    print 'Optimal solution found! \\o/'\n",
    "    \n",
    "    print 'Value of the variables:'\n",
    "    for v in model.variables():\n",
    "        val = v.value()\n",
    "        if val >= 0.99:\n",
    "            print '%s = %d' % (v, v.value())\n",
    "\n",
    "    print 'Number of items is %d.' % model.objective.value()\n",
    "else:\n",
    "    print 'Ops! I do not know what happened!'"
   ]
  },
  {
   "cell_type": "markdown",
   "metadata": {},
   "source": [
    "Now that we have seen how to create and solve a model, you can try to use PuLP for solving the models discussed in class. Keep in mind that we just covered the basics, for the full documentation on PuLP you can refer to: https://pythonhosted.org/PuLP/. \n"
   ]
  }
 ],
 "metadata": {
  "kernelspec": {
   "display_name": "Python 2",
   "language": "python",
   "name": "python2"
  },
  "language_info": {
   "codemirror_mode": {
    "name": "ipython",
    "version": 3
   },
   "file_extension": ".py",
   "mimetype": "text/x-python",
   "name": "python",
   "nbconvert_exporter": "python",
   "pygments_lexer": "ipython3",
   "version": "3.5.2"
  }
 },
 "nbformat": 4,
 "nbformat_minor": 1
}
