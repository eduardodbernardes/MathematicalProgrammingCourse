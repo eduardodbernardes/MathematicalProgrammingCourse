{
 "cells": [
  {
   "cell_type": "markdown",
   "metadata": {},
   "source": [
    "# Julia and JuMP: new tools for Mathematical Programming\n",
    "Pedro B. Castellucci\n",
    "\n",
    "<b>The original version, in Portuguese, of this tutorial was published on <i>Pesquisa Operacional para o Desenvolvimento</i>. If you are distributing, modifying or reproducing please cite the original reference:\n",
    "CASTELLUCCI, Pedro Belin. JULIA E JuMP: NOVAS FERRAMENTAS PARA PROGRAMAÇÃO MATEMÁTICA. Pesquisa Operacional para o Desenvolvimento, [S.l.], v. 9, n. 2, p. 48-61, ago. 2017. ISSN 1984-3534</b>\n",
    "\n",
    "There are numerous programming languages for general and cientific applications. However, specially for cientific applications, it is usual for languages to be well-suited for some task (e.g. algorithm development) and not efficient for others (e.g. graphics generations for results visualization). Julia was created as an alternative to aggregate advantages of various languages. In this tutorial, we present Julia and JuMP as an option for approaching Mathematical Programming challenges, focusing on Mixed Integer Linear Programming. The JuMP package provides a modelling language which is solver independent, allowing even the use of callback routines. Here, we present installation and an introductory development guide, besides examples with common callbacks.\n",
    "\n",
    "<b>Keywords: Mixed Integer Linear Programming; Programming language; Modelling language.</b>\n",
    "\n",
    "\n",
    "# Why Julia and JuMP?\n",
    "\n",
    "Most programming languagens used in the optimization context usually has disadvantages regarding productivity or performance. As examples from the optimization literature we can cite C/C++ and Python (or Java). Both are opposite extremes  regarding performance and productivity. C/C++ is a language know, in the context of optimization, for allowing the implementation of algorithms with high execution speed, which is important for stablishing state-of-the-art benchmarks. However, it is a languange that requires deep understanding regarding memory hierarchy, memory management, architecture, operating system, leading to a poor producitivity. On the other extreme, Python has many different high-level toolbox for and is expressive, allowing the implementation of sophisticated algorithms with relatively few lines of code, even though it  has a performance inferior the C/C++ in some orders of magnitude (see julialang.org/benchmarks).\n",
    "\n",
    "Julia is a general-purpose language, open-source, which aims at having a better trade-off between performance and productivity. Julia was created by users of Matlab, Lisp, Python, R and C/C++, identifying that these languages were powerful for some important cientific computation but very inneficient for others (https://julialang.org/blog/2012/02/why-we-created-julia). Although acknowledging their ambition, the goal of the creators of Julia is to have a language able to aggregate advantages of different programming languages such as the productivity of Python and the computational efficiency of C. A group of four researchers created Julia in 2012, the source repository of the language (https://github.com/JuliaLang/julia) have more than 500 collaborators and there are various online resources (e-mail list, IRC channel, GitHub, blogs, video channels and social networks). Furthermore, there are local groups around the world like in Chicago (U.S.A.), Ottawa (Canada), Londres (Inglaterra), Beijing (China), Sydney (Australia), Sao Paulo and Rio de Janeiro (Brazil) and international conferences (https://julialang.org/). \n",
    "\n",
    "To the time of this writing, Julia has not reached a 1.0 version, however there are scientific publications and academic courses using the language. Due to its high productivity and the availability of scientific packages, there are publications  in Julia in different areas: genetics, parallel computing, linear algebra, statistics, machine learning and other. Also, courses in Linear and Integer Programming, risk analysis, computational neuroscience, econometrics, big data, signal processing and molecular biology. For an extensive list, the reader is referred to the official website of the project (julialang.org).\n",
    "\n",
    "Here, the focusing is on the applicability of Julia for Mathematical Programming, specially in Mixed Integer Linear Programming. Particularly, we explore JuMP -- Julia for Mathematical Programming. JuMP is a modelling language embedded in Julia which currently supports 10 solvers of Linear, Mixed Integer Linear, Second order conic, Semidefinite and Non-linear Programming (for the complete list see http://www.juliaopt.org/JuMP.jl/0.17/). One of the main features of JuMP is the independence of the solve, namely, a model can be implemented using JuMP and solved using different software packages.\n",
    "\n",
    "This document, is structure to present an installation guide for Julia, JuMP and suggestions for the development environment. Then, we present a simple example for introducing the syntax of definition of variables, constraints and objective function. Following, the classical Traveling Salesman Problem is used to illustrated a bigger model and the utilization of callbacks, respectively. Finally, we make concluding remarks and list complementary resources.\n",
    "\n",
    "\n",
    "# Installation guidelines and suggestion\n",
    "\n",
    "This section present guidelines for installing Julia and Julia, besides suggestions for the programming enviroment and tools which were used by the author. For detailed instructions, the reader is referred to the correspondent manuals of Julia (https://julialang.org/downloads/), JuMP (http://www.juliaopt.org/JuMP.jl/0.17/) and the development tools. This tutorial was tested in Julia 0.5.\n",
    "\n",
    "\n",
    "## Julia\n",
    "\n",
    "We can install Julia in Linux, MacOS and Windows. For example, for installing in Linux, we just have to add Julia repositories (ppa:staticfloat/juliareleases and ppa:staticfloat/julia-deps) to the package manager and installed as any other official package. For MacOS and Windows the dmg package and executable are available at (https://julialang.org/downloads/). \n",
    "\n",
    "The basic Julia installation has a command line tool, similar to Python and Matlab. This tool is an option for a quick visualization of simple operations and package installation. An alternative for a more sophisticated is the usage of text editors and development enviroments. Some options are presented in the following.\n",
    "\n",
    "\n",
    "## JuMP\n",
    "\n",
    "To install JuMP, we just have to issue the command Pkg.add(\"JuMP\") in the command line. This is the default procedure for installing any Julia package. Also, there is the need to install a solver. Gurobi, for example, the command is Pkg.add(\"Gurobi\"). The addition of the corresponding package does not guarantee the installation of the solver and the corresponding manual should be checked. Cbc is a solver that does not require additional procedures -- it only requires the command Pkg.add(\"Cbc\"). The installation of the solver is beyond the scope of this document.\n",
    "\n",
    "\n",
    "## Recommedations\n",
    "\n",
    "\n",
    "Besides the command line and text editor, Julia has an online tool (JuliaBox -- juliabox.com), that allows for the development and execution of code. For using the default Julia functionalities in JuliaBox, there is no need for any additional installation. Also, it is possible to install packages, like JuMP, in the user account. One of the use cases for JuliaBox is in performing demos and courses, since the tool already offers a complete basic programming enviroment for the user, minimizing possible issues in the installation process. Furthermore, JuliaBox is interesting for creating and sharing Jupyter Notebooks.\n",
    "\n",
    "Jupyter Notebook is a tool from project Jupyter (http://jupyter.org/) allows the integration of text, images, mathematical notation and source code from other languages other than Julia. In a Jupyter Notebook, we can execute and visualize the results of algorithms, allowing even adaptations. Thereby, there is a degree of interactive with the reader.\n",
    "\n",
    "In the context of Mathematical Programming, both JuliaBox and Jupyter Notebook are interesting tools for sharing tutorials, talks, courses and even books (see https://github.com/jupyter/jupyter/wiki/A-gallery-of-interesting-Jupyter-Notebooks). For developing more sophisticated, alternatives like Atom and Visual Studio Code should be considered. Atom (https://atom.io/) is an multi-plataform editor and is an option for and development enviroment for Julia, with plugin Juno (http://junolab.org/). Also, Visual Studio Code (https://code.visualstudio.com/download) with its Julia development plugin can also be used. Both enviroments have capabilities like syntax highlight, autocomplete, debuggin tools and version control integration.\n",
    "\n",
    "\n",
    "# First steps\n",
    "\n",
    "This section presents two examples using JuMP. The first introduces syntax of definition of model, objective function, variables and constraint. The second is a partial implementation of the classical Traveling Salesman Problem, which uses function for building models with size that are typically found in Mixed Integer Linear Programming applications. Its implementations is finished in the following section. JuMP, Cbc, Gurobi, Plots, PlotRecipes and Graph package are used. For installing the packages, we have to issie the following commands in a Julia command line -- or in the Jupyter Notebook."
   ]
  },
  {
   "cell_type": "code",
   "execution_count": 8,
   "metadata": {},
   "outputs": [
    {
     "name": "stderr",
     "output_type": "stream",
     "text": [
      "\u001b[1m\u001b[34mINFO: Cloning cache of LaTeXStrings from https://github.com/stevengj/LaTeXStrings.jl.git\n",
      "\u001b[0m\u001b[1m\u001b[34mINFO: Cloning cache of MacroTools from https://github.com/MikeInnes/MacroTools.jl.git\n",
      "\u001b[0m\u001b[1m\u001b[34mINFO: Cloning cache of PyCall from https://github.com/JuliaPy/PyCall.jl.git\n",
      "\u001b[0m\u001b[1m\u001b[34mINFO: Cloning cache of PyPlot from https://github.com/JuliaPy/PyPlot.jl.git\n",
      "\u001b[0m\u001b[1m\u001b[34mINFO: Installing LaTeXStrings v0.2.1\n",
      "\u001b[0m\u001b[1m\u001b[34mINFO: Installing MacroTools v0.3.7\n",
      "\u001b[0m\u001b[1m\u001b[34mINFO: Installing PyCall v1.15.0\n",
      "\u001b[0m\u001b[1m\u001b[34mINFO: Installing PyPlot v2.3.2\n",
      "\u001b[0m\u001b[1m\u001b[34mINFO: Building Conda\n",
      "\u001b[0m\u001b[1m\u001b[34mINFO: Building PyCall\n",
      "\u001b[0m\u001b[1m\u001b[34mINFO: PyCall is using python (Python 2.7.12) at /usr/bin/python, libpython = libpython2.7\n",
      "\u001b[0m\u001b[1m\u001b[34mINFO: /home/pedro/.julia/v0.5/PyCall/deps/deps.jl has been updated\n",
      "\u001b[0m\u001b[1m\u001b[34mINFO: /home/pedro/.julia/v0.5/PyCall/deps/PYTHON has been updated\n",
      "\u001b[0m\u001b[1m\u001b[34mINFO: Package database updated\n",
      "\u001b[0m\u001b[1m\u001b[34mINFO: METADATA is out-of-date — you may not have the latest version of PyPlot\n",
      "\u001b[0m\u001b[1m\u001b[34mINFO: Use `Pkg.update()` to get the latest versions of your packages\n",
      "\u001b[0m"
     ]
    }
   ],
   "source": [
    "Pkg.update()\n",
    "Pkg.add(\"JuMP\");\n",
    "Pkg.add(\"Cbc\");\n",
    "Pkg.add(\"Gurobi\");\n",
    "# Pkg.add(\"CPLEX\"); # O Cplex pode ser instalado com esse comando.\n",
    "\n",
    "# Pacotes para visualização de resultados:\n",
    "Pkg.add(\"Plotly\");  # Ou Pkg.add(\"PyPlot\")\n",
    "Pkg.add(\"PlotRecipes\");\n",
    "Pkg.add(\"Graphs\");"
   ]
  },
  {
   "cell_type": "markdown",
   "metadata": {},
   "source": [
    "We invite the reader to execute the source code presented here. For this, it is possible to use the own Jupyter Notebook. An option is to use the source code <i>JuliaJumpTutorial.jl</i>, available https://github.com/pedrocastellucci/MathematicalProgrammingCourse/tree/master/PODes_JuliaJump_Tutorial. To execute it, we can issue <i>julia JuliaJumpTutorial.jl</i> in a command line tool with Julia and Gurobi installations. Other solvers can be used by changing parts of the source code. The changes for using CPLEX are indicating along the document.\n",
    "\n",
    "\n",
    "## A simple example\n",
    "\n",
    "Consider the following optimization problem:\n",
    "\n",
    "$Max\\ x + 2y$\n",
    "\n",
    "Subject to:\n",
    "\n",
    "$2x + 3y \\leq 25,$\n",
    "\n",
    "$3x + 2y \\leq 37,$\n",
    "\n",
    "$0 \\leq x \\leq 15,$\n",
    "\n",
    "$y \\in \\mathbb{Z}^+.$\n",
    "\n",
    "To implement the model using JuMP, the first step is to include the needed packages and create the object the manages the model, with the solver to be used. This example uses Cbc as solver, in the following examples, we use Gurobi.\n"
   ]
  },
  {
   "cell_type": "code",
   "execution_count": 1,
   "metadata": {
    "collapsed": true
   },
   "outputs": [],
   "source": [
    "using JuMP\n",
    "using Cbc\n",
    "\n",
    "# Criando o modelo com o resolvedor Cbc:\n",
    "model = Model(solver=CbcSolver());"
   ]
  },
  {
   "cell_type": "markdown",
   "metadata": {},
   "source": [
    "Then, we define variable and their domains. Also, we need to specify the model which is associated with the variable. So, we may define the objective function and constraints, which also must be associated with a model."
   ]
  },
  {
   "cell_type": "code",
   "execution_count": 2,
   "metadata": {},
   "outputs": [
    {
     "name": "stdout",
     "output_type": "stream",
     "text": [
      "Max x + 2 y\n",
      "Subject to\n",
      " 2 x + 3 y ≤ 25\n",
      " 3 x + 2 y ≤ 37\n",
      " 0 ≤ x ≤ 15\n",
      " y ≥ 0, integer\n",
      "\n"
     ]
    }
   ],
   "source": [
    "# 0 <= x <= 15\n",
    "@variable(model, x, lowerbound=0, upperbound=15)\n",
    "\n",
    "# y é variável inteira não negativa:\n",
    "@variable(model, y, lowerbound=0, Int)\n",
    "\n",
    "# Problema de maximização da função x + 2y:\n",
    "@objective(model, Max, x + 2y)\n",
    "\n",
    "# Restrições:\n",
    "@constraint(model, 2x + 3y <= 25)\n",
    "@constraint(model, 3x + 2y <= 37)\n",
    "\n",
    "# Impressão do modelo:\n",
    "println(model)"
   ]
  },
  {
   "cell_type": "markdown",
   "metadata": {},
   "source": [
    "Method <i>solve</i> is used for starting the solution procedure. The method returns the status of the achieved solution, hence, the source code veryfies if we could found an optimal solution and print it. Otherwise, the code prints a solution with some information."
   ]
  },
  {
   "cell_type": "code",
   "execution_count": 3,
   "metadata": {},
   "outputs": [
    {
     "name": "stdout",
     "output_type": "stream",
     "text": [
      "Optimal solution found!\n",
      "x = 0.4999999999999982, y = 8.0\n",
      "Solution value 16.5\n"
     ]
    }
   ],
   "source": [
    "status = solve(model)\n",
    "\n",
    "if status == :Optimal\n",
    "    println(\"Optimal solution found!\")\n",
    "    println(\"x = $(getvalue(x)), y = $(getvalue(y))\")\n",
    "    println(\"Solution value $(getobjectivevalue(model))\")\n",
    "else\n",
    "    println(\"Optimal solution not found!\")\n",
    "end"
   ]
  },
  {
   "cell_type": "markdown",
   "metadata": {},
   "source": [
    "Note that the example is simple and is not representative of problems of academic and practical insterest of Operational Researchers. Next section presents a partial implementation of the Traveling Salesman problem, which is finished in the following section. In this implementation, we present syntax and function from JuMP which allow for the modelling of problems whose size is comparable to the ones associated with state-of-the-art branch-and-cut computational packages."
   ]
  },
  {
   "cell_type": "markdown",
   "metadata": {},
   "source": [
    "## The Traveling Salesman Problem\n",
    "\n",
    "It is not our scope here to discuss the importance, solution methods or different modeling approaches for the Traveling Salesman Problem. For this, the refer to <i>The traveling salesman problem: a computational study (D. L. Applegate, R. E. Bixby, V. Chvatal, and W. J. Cook, 2011)</i>. We present a model for the problem as an example for exploring JuMP.\n",
    "\n",
    "Let $V$ be a set of points to be visited por a traveler and $c_{ij}$ the cost of moving from $i$ to $j$, with $i$, $j \\in V$, $i \\neq j$. The Traveling Salesman Problem consists of find a route with the minimum cost which visits exactly once every point. Let $x_{ij}$ be binary variables indicating whether the traveler use path $(i, j)$, $i, j \\in V$, $i \\neq j$ as part of the route. Thereby, we have the following model:\n",
    "\n",
    "$$\n",
    "\\mbox{Min } \\sum_{i \\in V}\\sum_{j \\in V, i \\neq j} c_{ij}x_{ij},\\\\\n",
    "\\hspace{-4cm}\\mbox{subject to:}\\\\\n",
    "\\sum_{i \\in V, i \\neq j} x_{ij} = 1, \\quad j \\in V, \\\\\n",
    "\\sum_{j \\in V, i \\neq j} x_{ij} = 1, \\quad i \\in V, \\\\\n",
    "\\sum_{(i, j) \\in S} x_{ij} \\leq |S|-1, \\quad S \\subset V,\\\\\n",
    "x_{ij} \\in \\{0, 1\\}, \\quad i, j \\in V, i \\neq j,\n",
    "$$\n",
    "\n",
    "The objective function minimizes the cost of the route, while the constraints ensure the traveler reaches, leaves and that the route does not have subcycles, respectively.\n",
    "\n",
    "Before implementing the model using JuMP and Julia, consider the toy problem defined be the following code. The problem is defined by the cartesian coordinated of each point to be visited, so the code computes the values $c_{ij}$, $i, j \\in V, i \\neq j$, using euclidian distance between $i$ and $j$."
   ]
  },
  {
   "cell_type": "code",
   "execution_count": 4,
   "metadata": {},
   "outputs": [],
   "source": [
    "# Posições de cada ponto a ser visitado:\n",
    "citiesDict = Dict{Int, Any}()\n",
    "citiesDict[1] = (523, 418)\n",
    "citiesDict[2] = (527, 566)\n",
    "citiesDict[3] = (435, 603)\n",
    "citiesDict[4] = (386, 660)\n",
    "citiesDict[5] = (346, 692)\n",
    "citiesDict[6] = (431, 730)\n",
    "citiesDict[7] = (419, 818)\n",
    "citiesDict[8] = (347, 520)\n",
    "citiesDict[9] = (332, 330)\n",
    "citiesDict[10] = (165, 374)\n",
    "citiesDict[11] = (196, 198)\n",
    "citiesDict[12] = (187, 108)\n",
    "citiesDict[13] = (210, 63)\n",
    "\n",
    "nCities = length(citiesDict)\n",
    "# Matriz para amazenar as distâncias entre os pontos:\n",
    "c = zeros(nCities, nCities)\n",
    "\n",
    "# Definição da posição de cada vértice para desenho:\n",
    "posX, posY = [], []\n",
    "\n",
    "for i in sort(collect(keys(citiesDict)))\n",
    "    posI = citiesDict[i]\n",
    "    for j in sort(collect(keys(citiesDict)))\n",
    "        posJ = citiesDict[j]\n",
    "        c[i, j] = ((posI[1] - posJ[1])^2 + (posI[2] - posJ[2])^2)^0.5\n",
    "    end \n",
    "    append!(posX, posI[1])\n",
    "    append!(posY, posI[2])\n",
    "end"
   ]
  },
  {
   "cell_type": "markdown",
   "metadata": {},
   "source": [
    "We can use Julia to build a visualization of the example. The following code depends the packages for building graphs. The installation of these packages is not covered in this tutorial. However, the execution of this code block is not mandatory for executing the remainig blocks."
   ]
  },
  {
   "cell_type": "code",
   "execution_count": 5,
   "metadata": {},
   "outputs": [
    {
     "name": "stderr",
     "output_type": "stream",
     "text": [
      "WARNING: Method definition describe(AbstractArray) in module StatsBase at /home/pedro/.julia/v0.5/StatsBase/src/scalarstats.jl:560 overwritten in module DataFrames at /home/pedro/.julia/v0.5/DataFrames/src/abstractdataframe/abstractdataframe.jl:407.\n",
      "WARNING: Method definition count() in module IterTools at deprecated.jl:49 overwritten in module Iterators at deprecated.jl:49.\n",
      "WARNING: Method definition count(Number) in module IterTools at deprecated.jl:49 overwritten in module Iterators at deprecated.jl:49.\n",
      "WARNING: Method definition count(Number, Number) in module IterTools at deprecated.jl:49 overwritten in module Iterators at deprecated.jl:49.\n"
     ]
    },
    {
     "data": {
      "text/html": [
       "<img src=\"data:image/png;base64,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\" />"
      ]
     },
     "execution_count": 5,
     "metadata": {},
     "output_type": "execute_result"
    }
   ],
   "source": [
    "using PlotRecipes  # Pacote com a função para plotar grafos\n",
    "# Pkg.add(\"PyPlot\")  # Instalação do pacote para plotagem.\n",
    "\n",
    "# Backend utilizado para plotagem:\n",
    "pyplot()  # Melhor visualização, mas possui mais dependências.\n",
    "# plotly()  # Mais simples.\n",
    "\n",
    "# Configuração do desenho\n",
    "graphplot(1:nCities, 1:nCities, names=1:nCities,\n",
    "    x=posX, y=posY, fontsize=10,\n",
    "    m=:white, l=:black)"
   ]
  },
  {
   "cell_type": "markdown",
   "metadata": {},
   "source": [
    "O primeiro passo para implementação do modelo é a inclusão dos pacotes computacionais que serão utilizados. Para esse exemplo, foi utilizado o pacote JuMP e o Gurobi. Em seguida, define-se o objeto modelo, no qual podem-se definir parâmetros para solução: foram limitados tempo de solução, número de processadores, desabilitadas as heurísticas do Gurobi -- é implementada uma heurística na Seção 4.3 -- e suprimida a impressão de informações sobre o processo de solução. Com o modelo, definem-se as variáveis, a função objetivo e as restrições do problema, respectivamente. Note o uso da sintaxe para a definição de variáveis matriciais e a função <i>sum</i> como atalho para a definição de somatórios."
   ]
  },
  {
   "cell_type": "code",
   "execution_count": 6,
   "metadata": {
    "collapsed": true
   },
   "outputs": [],
   "source": [
    "using JuMP\n",
    "using Gurobi\n",
    "# using CPLEX\n",
    "\n",
    "# Definição do modelo e parâmetros para a solução: \n",
    "model = Model(solver=GurobiSolver(TimeLimit=20, Threads=1, \n",
    "        Heuristics=0.0, OutputFlag=0))\n",
    "\n",
    "# Para o CPLEX pode-se usar:\n",
    "# model = Model(solver=CplexSolver(CPX_PARAM_TILIM=20, \n",
    "#         CPX_PARAM_THREADS=1, CPX_PARAM_HEURFREQ=0,\n",
    "#         CPX_PARAM_SCRIND=0))\n",
    "\n",
    "# Definição da variável matricial xij.\n",
    "# Note que a variável nCities foi definida anteriormente.\n",
    "@variable(model, x[i=1:nCities, j=1:nCities; i != j], Bin)\n",
    "\n",
    "# Função objetivo:\n",
    "@objective(model, Min, sum(c[i, j] * x[i, j]\n",
    "        for i in 1:nCities, j in 1:nCities if i != j))\n",
    "\n",
    "# Restrições para garantir a saída de todo vértice:\n",
    "for i in 1:nCities\n",
    "    @constraint(model, sum(x[i, j] for j in 1:nCities if i != j) == 1)\n",
    "end \n",
    "\n",
    "# Restrições para garantir a chegada em cada vértice:\n",
    "for j in 1:nCities\n",
    "    @constraint(model, sum(x[i, j] for i in 1:nCities if i != j) == 1)\n",
    "end"
   ]
  },
  {
   "cell_type": "markdown",
   "metadata": {},
   "source": [
    "A solução é obtida pela chamada do método <i>solve</i> e pode-se utilizar Julia para visualizar a solução."
   ]
  },
  {
   "cell_type": "code",
   "execution_count": 7,
   "metadata": {},
   "outputs": [
    {
     "name": "stdout",
     "output_type": "stream",
     "text": [
      "Academic license - for non-commercial use only\n"
     ]
    }
   ],
   "source": [
    "status = solve(model)\n",
    "\n",
    "if status == :Optimal\n",
    "    edgeOrigin = []\n",
    "    edgeDest = []\n",
    "\n",
    "    for i in keys(citiesDict)\n",
    "        for j in keys(citiesDict)\n",
    "            if i != j && getvalue(x[i, j]) > 0.99\n",
    "                append!(edgeOrigin, i)\n",
    "                append!(edgeDest, j)\n",
    "            end\n",
    "        end\n",
    "    end\n",
    "else\n",
    "    println(\"Solução ótima não encontrada!\")\n",
    "end"
   ]
  },
  {
   "cell_type": "code",
   "execution_count": 8,
   "metadata": {},
   "outputs": [
    {
     "data": {
      "text/html": [
       "<img src=\"data:image/png;base64,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\" />"
      ]
     },
     "metadata": {},
     "output_type": "display_data",
     "source": "julia"
    }
   ],
   "source": [
    "# Visualizando a solução: \n",
    "display(\n",
    "        graphplot(\n",
    "            edgeOrigin, edgeDest, names=1:nCities, \n",
    "            x=posX, y=posY, fontsize=10,\n",
    "            m=:white, l=:black\n",
    "        )\n",
    "    )"
   ]
  },
  {
   "cell_type": "markdown",
   "metadata": {},
   "source": [
    "Devido a ausência das restrições de eliminação de subciclo, a solução não corresponde a uma rota desejada. Uma desvantagem das restrições de eliminação de subciclos apresentadas é o seu número exponencial em relação ao número de pontos a serem visitados. Por isso, enumerar todas essas restrições <i>a priori</i> é factível apenas para exemplos com poucos pontos e uma abordagem mais eficiente é adicionar restrições apenas quando são necessárias. Na sequência, é utilizada a <i>callback</i> de <i>lazy constraints</i> da JuMP para inclusão das restrições de eliminação de subciclo de forma eficiente. \n",
    "\n",
    "# <i>Callbacks</i>\n",
    "\n",
    "<i>Callbacks</i> são funções que permitem ao usuário personalizar o procedimento do resolvedor. Em geral, são utilizadas para explorar características específicas dos problemas ou obter informações detalhadas sobre andamento do processo de solução. No momento da escrita deste artigo, JuMP dispunha de três <i>callbacks</i> para customização, que são apresentadas nas Subseçõs 4.1-4.3, além de <i>callbacks</i> informativas -- que possuem o uso relativamente simples. Informações detalhadas sobre essa funcionalidade podem ser encontradas na documentação oficial da JuMP (http://www.juliaopt.org/JuMP.jl/0.17/). Ainda, destaca-se que o comportamento específico de cada uma das <i>callbacks</i> pode depender do resolvedor utilizado e recomenda-se consultar seu respectivo manual. Inclusive, a número de resolvedores que suportam seu uso é limitado (Gurobi, CPLEX, GLPK e SCIP eram os suportados no momento da escrita deste artigo).\n",
    "\n",
    "## <i>Lazy constraints</i>\n",
    "\n",
    "Uma das utilidades da <i>callback lazy constraints</i> é em casos em que o conjunto completo de restrições é muito numeroso para ser explicitado. Para utilizar essa <i>callback</i>, é necessário implementar uma função que é chamada sempre que o resolvedor encontrar uma solução inteira, permitindo, então, a adição de restrições ao modelo. Como exemplo, segue uma implementação de função que identifica o menor subciclo presente na solução do caixeiro viajante apresentada anteriormente e, caso ele exista, adiciona uma restrição que o elimina. Note que é possível utilizar outros pacotes de Julia dentro de uma <i>callback</i>, como foi feito no exemplo com o pacote <i>Graphs</i>, permitindo uma manipulação simples do grafo da solução.\n"
   ]
  },
  {
   "cell_type": "code",
   "execution_count": 9,
   "metadata": {},
   "outputs": [
    {
     "data": {
      "text/plain": [
       "lazyConstraintsCallback (generic function with 1 method)"
      ]
     },
     "execution_count": 9,
     "metadata": {},
     "output_type": "execute_result"
    }
   ],
   "source": [
    "using Graphs\n",
    "\n",
    "function lazyConstraintsCallback(cb)\n",
    "\n",
    "    # Criando um grafo:\n",
    "    g = simple_graph(nCities, is_directed=false)\n",
    "\n",
    "    for i in 1:nCities, j in 1:nCities\n",
    "        if i != j\n",
    "            if getvalue(x[i, j]) > 0.01\n",
    "                add_edge!(g, i, j)  # Adicionando as arestas.\n",
    "            end\n",
    "        end\n",
    "    end\n",
    "\n",
    "    # Encontrando os componentes conexos do grafo:\n",
    "    cc = connected_components(g)\n",
    "\n",
    "    if length(cc) > 1\n",
    "        # Caso só haja uma componente conexa\n",
    "        # não há subciclo e não se adiciona \n",
    "        # nenhuma restrição.\n",
    "        \n",
    "        minTour = sort(cc, by=length)[1]\n",
    "        subtourLhs = AffExpr()\n",
    "        \n",
    "        # Encontrando as arestas que fazem parte do subciclo\n",
    "        for i in minTour\n",
    "            for j in minTour\n",
    "                if i != j && getvalue(x[i, j]) > 0.01\n",
    "                    subtourLhs += x[i, j]\n",
    "                end \n",
    "            end\n",
    "        end\n",
    "        \n",
    "        # Adicionando a restrição:\n",
    "        @lazyconstraint(cb, subtourLhs <= length(minTour) - 1)\n",
    "    end\n",
    "end # End function"
   ]
  },
  {
   "cell_type": "markdown",
   "metadata": {},
   "source": [
    "Com a função de inclução de restrições de eliminação de subciclo, o único passo necessário, além da implementação do modelo, é informar que o resolvedor deve considerar função correta para <i>callback</i>. Isso deve ser feito antes da chamada do método <i>solve</i>. Como feito a seguir:"
   ]
  },
  {
   "cell_type": "code",
   "execution_count": 10,
   "metadata": {},
   "outputs": [
    {
     "name": "stdout",
     "output_type": "stream",
     "text": [
      "Academic license - for non-commercial use only\n"
     ]
    },
    {
     "data": {
      "text/html": [
       "<img src=\"data:image/png;base64,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\" />"
      ]
     },
     "execution_count": 10,
     "metadata": {},
     "output_type": "execute_result"
    }
   ],
   "source": [
    "# [... Código com a implementação do modelo ...]\n",
    "\n",
    "addlazycallback(model, lazyConstraintsCallback)\n",
    "\n",
    "solve(model)\n",
    "\n",
    "edgeOrigin = []\n",
    "edgeDest = []\n",
    "\n",
    "for i in keys(citiesDict)\n",
    "    for j in keys(citiesDict)\n",
    "        if i != j && getvalue(x[i, j]) > 0.01\n",
    "            append!(edgeOrigin, i)\n",
    "            append!(edgeDest, j)\n",
    "        end\n",
    "    end\n",
    "end\n",
    "\n",
    "graphplot(edgeOrigin, edgeDest, names=1:nCities,\n",
    "    x=posX, y=posY, fontsize=10, m=:white, l=:black)"
   ]
  },
  {
   "cell_type": "markdown",
   "metadata": {},
   "source": [
    "No caso do Gurobi, é possível visualizar o número de restrições adicionadas durante o processo de resolução. As informações disponíveis podem variar de acordo com o pacote computacional utilizado e podem ser consultadas no respectivo manual.\n",
    "\n",
    "## <i> User cuts</i>\n",
    "\n",
    "A <i>callback user cuts</i> pode ser interessante caso o usuário conheça desigualdades válidas (cortes) para o seu problema e seja custoso adicioná-las <i>a priori</i>. Essa <i>callback</i> é chamada sempre que o resolvedor encontra uma solução ótima para a relaxação linear do problema. Embora chamada em momento diferente, a sua implementação é semelhante ao caso de <i>lazy constraints</i>."
   ]
  },
  {
   "cell_type": "code",
   "execution_count": 11,
   "metadata": {},
   "outputs": [
    {
     "data": {
      "text/plain": [
       "userCutsCallback (generic function with 1 method)"
      ]
     },
     "execution_count": 11,
     "metadata": {},
     "output_type": "execute_result"
    }
   ],
   "source": [
    "using Graphs\n",
    "\n",
    "function userCutsCallback(cb)\n",
    "\n",
    "    # Criando um grafo:\n",
    "    g = simple_graph(nCities, is_directed=false)\n",
    "\n",
    "    for i in 1:nCities, j in 1:nCities\n",
    "        if i != j\n",
    "            if getvalue(x[i, j]) > 0.01\n",
    "                add_edge!(g, i, j)  # Adicionando as arestas.\n",
    "            end\n",
    "        end\n",
    "    end\n",
    "\n",
    "    # Encontrando os componentes conexos do grafo:\n",
    "    cc = connected_components(g)\n",
    "\n",
    "    minTour = sort(cc, by=length)[1]\n",
    "    subtourLhs = AffExpr()\n",
    "\n",
    "    # Encontrando as arestas que fazem parte do subciclo\n",
    "    countEdges = 0\n",
    "    for i in minTour\n",
    "        for j in minTour\n",
    "            if i != j && getvalue(x[i, j]) > 0.01\n",
    "                subtourLhs += x[i, j]\n",
    "                countEdges += 1\n",
    "            end \n",
    "        end\n",
    "    end\n",
    "\n",
    "    # Adicionando a restrição:\n",
    "    if length(cc) > 1\n",
    "        @usercut(cb, subtourLhs <= length(minTour) - 1)\n",
    "    elseif countEdges > length(vertices(g))\n",
    "        @usercut(cb, subtourLhs == length(vertices(g)))\n",
    "    end\n",
    "    \n",
    "end # End function"
   ]
  },
  {
   "cell_type": "markdown",
   "metadata": {},
   "source": [
    "É importante destacar que as restrições adicionadas utilizando <i>user cuts</i> não devem alterar o conjunto de soluções factíveis do problema original, elas têm a função, apenas, de melhorar o limitante dual do problema. Portanto, para o exemplo do caixeiro viajante aqui apresentado, é necessário utilizar as duas <i>callbacks</i>."
   ]
  },
  {
   "cell_type": "code",
   "execution_count": 12,
   "metadata": {},
   "outputs": [
    {
     "name": "stdout",
     "output_type": "stream",
     "text": [
      "Academic license - for non-commercial use only\n"
     ]
    },
    {
     "data": {
      "text/plain": [
       ":Optimal"
      ]
     },
     "execution_count": 12,
     "metadata": {},
     "output_type": "execute_result"
    }
   ],
   "source": [
    "addcutcallback(model, userCutsCallback)\n",
    "addlazycallback(model, lazyConstraintsCallback)\n",
    "\n",
    "solve(model)"
   ]
  },
  {
   "cell_type": "markdown",
   "metadata": {},
   "source": [
    "## <i> User heuristics</i>\n",
    "\n",
    "A <i>callback user heuristics</i> permite que sejam submetidas soluções heurísticas para o resolvedor. O comportamento específico dessa <i>callback</i> depende do resolvedor que está sendo utilizado e é necessário consultar o respectivo manual. Para o exemplo do caixeiro viajante, considere uma heurística que inclui na rota arestas correspondentes as variáveis com valores no intervalo (0,1; 1]. Isto é, atribui 1 a variáveis cuja a solução da relaxação é maior do que 0,1. Essa procedimento constrói uma solução candidata, que é submetida ao Gurobi, caso ela seja factível, ela é incluída nas soluções encontradas até o momento, caso contrário ela é desconsiderada. Esse procedimento pode ser implementado da seguinte maneira:"
   ]
  },
  {
   "cell_type": "code",
   "execution_count": 13,
   "metadata": {},
   "outputs": [
    {
     "data": {
      "text/plain": [
       "userHeuristicsCallback (generic function with 1 method)"
      ]
     },
     "execution_count": 13,
     "metadata": {},
     "output_type": "execute_result"
    }
   ],
   "source": [
    "function userHeuristicsCallback(cb)\n",
    "    for i in 1:nCities, j in 1:nCities\n",
    "        if i != j\n",
    "            if  getvalue(x[i, j]) > 0.1\n",
    "                # Atribuindo um valor à variável:\n",
    "                setsolutionvalue(cb, x[i, j], 1)\n",
    "            end            \n",
    "        end\n",
    "    end\n",
    "    \n",
    "    # Submetendo solução:\n",
    "    addsolution(cb)                    \n",
    "    \n",
    "end"
   ]
  },
  {
   "cell_type": "markdown",
   "metadata": {},
   "source": [
    "Para o exemplo, foram atribuídos valores a todas as variáveis do problema. Isso não é uma exigência, pode-se submeter uma solução parcial, atribuindo valores à apenas algumas variáveis. Novamente, o tratamento dos valores restantes depende do resolvedor. Para utilizar a função implementada como <i>callback</i> procede-se de maneira semelhante aos casos anteriores, podendo-se, inclusive, utilizar outras <i>callbacks</i> simultanetamente."
   ]
  },
  {
   "cell_type": "code",
   "execution_count": 14,
   "metadata": {},
   "outputs": [
    {
     "name": "stdout",
     "output_type": "stream",
     "text": [
      "Academic license - for non-commercial use only\n"
     ]
    },
    {
     "data": {
      "text/plain": [
       ":Optimal"
      ]
     },
     "execution_count": 14,
     "metadata": {},
     "output_type": "execute_result"
    }
   ],
   "source": [
    "addcutcallback(model, userCutsCallback)\n",
    "addlazycallback(model, lazyConstraintsCallback)\n",
    "addheuristiccallback(model, userHeuristicsCallback)\n",
    "\n",
    "solve(model)"
   ]
  },
  {
   "cell_type": "markdown",
   "metadata": {},
   "source": [
    "# Conclusões e recursos adicionais\n",
    "\n",
    "Julia e JuMP são ferramentas computacionais recentes que se aproveitam das vantagens de diferentes linguagens de programação e pacotes computacioanis para melhorar o compromisso entre produtividade e eficiência computacional em relação às alternativas usuais. Embora, tanto Julia quanto JuMP, ainda não possuam uma versão 1.0 a comunidade científica tem mostrado interesse no uso e desenvolvimento de tais ferramentas (vide, por exemplo, https://julialang.org/teaching, https://julialang.org/publications e https://github.com/pedrocastellucci/MathematicalProgrammingCourse). Este tutorial tenta chamar atenção da comunidade científica e demais interessados, principalmente dos programadores matemáticos, para a linguagem Julia e mais especificamente para a biblioteca JuMP.\n",
    "\n",
    "Além das referências já mencionadas ao longo do texto, o leitor é referido ao livro Julia Programming for Operations Research: A Primer on Computing. Ao canal https://www.youtube.com/user/JuliaLanguage, onde podem ser encontradas palestras das conferências anuais de Julia (JuliaCon, realizada desde 2014) com conteúdos básicos e avançados da própria linguagem e de suas bibliotecas."
   ]
  }
 ],
 "metadata": {
  "kernelspec": {
   "display_name": "Julia 0.5.2",
   "language": "julia",
   "name": "julia-0.5"
  },
  "language_info": {
   "file_extension": ".jl",
   "mimetype": "application/julia",
   "name": "julia",
   "version": "0.5.2"
  }
 },
 "nbformat": 4,
 "nbformat_minor": 2
}
