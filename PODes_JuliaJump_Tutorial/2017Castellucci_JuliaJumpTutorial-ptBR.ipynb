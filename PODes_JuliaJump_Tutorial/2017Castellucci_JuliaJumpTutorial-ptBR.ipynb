{
 "cells": [
  {
   "cell_type": "markdown",
   "metadata": {},
   "source": [
    "# Julia e JuMP: novas ferramentas para Programação Matemática\n",
    "Pedro B. Castellucci\n",
    "\n",
    "\n",
    "Existem diversas linguagens de programação para aplicações gerais ou científicas. No entanto, particularmente em aplicações científicas, é comum se encontrar linguagens adequadas\n",
    "para certas tarefas (desenvolvimento de algoritmos, por exemplo) e inadequadas para outras\n",
    "(geração de gráficos para visualização de resultados). Julia foi criada como uma alternativa que\n",
    "combinasse as vantagens de diversas linguagens. Neste tutorial, Julia é apresentada como uma\n",
    "opção para desenvolvimento de soluções no contexto de Programação Matemática, com foco em Programação Linear Inteira Mista, juntamente com seu pacote JuMP. O pacote JuMP fornece uma linguagem\n",
    "de modelagem independente do <i>software</i> de otimização utilizado, inclusive permitindo a implementação de callbacks. São apresentados neste tutorial guias de instalação e desenvolvimento, além de exemplos com funções\n",
    "usualmente utilizadas e <i>callbacks</i>.\n",
    "\n",
    "<b>Palavras-chaves: Programação linear inteira mista; linguagem de programação; linguagem de modelagem.</b>\n",
    "\n",
    "# Por que Julia e JuMP?\n",
    "\n",
    "As linguagens de programação usualmente utilizadas no contexto de otimização costumam ter desvantagens em relação a produtividade ou desempenho. Como exemplos encontrados na literatura de otimização estão as linguagens C/C++ e Python (ou Java). Ambas estão em extremos opostos nos quesitos desempenho e produtividade. C/C++ é uma linguagem conhecida, dentro do contexto de otimização, por possibilitar a implementação de algoritmos de rápida execução, importantes para o estabelecimento de referências do estado-da-arte. No entanto, é uma linguagem difícil de ser dominada e que exige conhecimentos específicos de computação como hierarquia, gerência de memória, arquitetura e sistemas operacionais, levando a uma baixa produtividade em relação a outras linguagens. Do lado oposto, tem-se Python que possui diversas caixas de ferramentas com funções de alto nível e expressividade, possibilitando a implementação de algoritmos sofisticados com um número relativamente pequeno de linhas de código, embora possua um desempenho inferior ao do C/C++ em algumas ordens de grandeza (vide experimentos reportados em: julialang.org/benchmarks). \n",
    "\n",
<<<<<<< HEAD
    "Julia é uma liguagem de propósito geral e código aberto que visa um bom desempenho e produtividade. Julia foi criada por usuários de Matlab, Lisp, Python, Ruby Perl, R e C/C++, identificando que essas linguagens era poderosas para algumas tarefas importantes de computação científica mas muito deficiente para outras (https://julialang.org/blog/2012/02/why-we-created-julia).  Embora reconhecedores de sua ambição, os criadores pretendem, com Julia, ter uma linguagem capaz de agregar as vantagens de diversas linguagens de programação como a produtividade do Python e a eficiência do C. Criada em 2012 por um grupo de quatro pesquisadores, o repositório da linguagem (https://github.com/JuliaLang/julia) conta com mais de 500 colaboradores e com diversos recursos online (lista de e-mails, canal do IRC, GitHub, blogs, canais de vídeos e redes sociais). Além disso, existem grupos locais de usuários em diversas cidades do mundo como \n",
=======
    "Julia é uma liguagem de propósito geral e código aberto que visa um bom desempenho e produtividade. Julia foi criada por usuários de Matlab, Lisp, Python, Ruby, Perl, R e C/C++, identificando que essas linguagens era poderosas para algumas tarefas importantes de computação científica mas muito deficiente para outras (https://julialang.org/blog/2012/02/why-we-created-julia).  Embora reconhecedores de sua ambição, os criadores pretendem, com Julia, ter uma linguagem capaz de agregar as vantagens de diversas linguagens de programação como a produtividade do Python e a eficiência do C. Criada em 2012 por um grupo de quatro pesquisadores, o repositório da linguagem (https://github.com/JuliaLang/julia) conta com mais de 500 colaboradores e com diversos recursos online (lista de e-mails, canal do IRC, GitHub, blogs, canais de vídeos e redes sociais). Além disso, existem grupos locais de usuários em diversas cidades do mundo como \n",
>>>>>>> 9a805e14576238c890dd395e8423d4523c28dd65
    "Chicaco (E.U.A.), Ottawa (Canadá), Londres (Inglaterra), Beijing (China), Sydney (Austrália), São Paulo e Rio de Janeiro (Brasil) e conferências internacionais (https://julialang.org/).\n",
    "\n",
    "Embora, até a redação deste artigo, não haja uma versão 1.0 de Julia, já existem publicações científicas e disciplinas em universidades ministradas utilizando a linguagem. Devido a sua alta produtividade e há existência de diversos pacotes científicos disponíveis é possível encontrar artigos científicos em diferentes áreas: genética, computação paralela, algébra linear, estatística, aprendizado de máquina entre outras; e, também, disciplinas como otimização linear e discreta, análise de risco, neurociência computacional, econometria, <i>big data</i>, processamento de sinais e biologia mocular. Para listas extensas o leitor é referido ao <i>site</i> oficial do projeto (julialang.org).\n",
    "\n",
    "Aqui, o foco é a aplicabilidade de Julia para Programação Matemática, em especial para Programação Inteira Linear Mista. Particularmente, é explorada a biblioteca JuMP -- <i> Julia for Mathematical Programming</i>. JuMP é uma linguagem de modelagem embutida no Julia que atualmente suporta mais de 10 resolvedores de Programação Linear, Linear Inteira Mista, Cônica de Segunda Ordem, Semidefinida e Não-linear (para a lista completa, vide http://www.juliaopt.org/JuMP.jl/0.17/). Uma das principais características da JuMP é a independência do resolvedor a ser utilizado, isto é, um modelo pode ser implementado em JuMP independente do resolvedor que será utilizado para sua solução. \n",
    "\n",
    "Este texto, está organizado de forma a apresentar um guia para instalação da linguagem Julia, do pacote JuMP e sugestões para o ambiente de desenvolvimento. Em seguida é apresentado um exemplo simples para introdução da sintaxe de definição de variáveis, restrições e função objetivo. Então, o problema clássico do caixeiro viajante é utilizado como ilustração de um modelo de maior porte e da utilização de <i>callbacks</i>, respectivamente. Por fim, são tecidos alguns comentários finais e listados alguns materiais complementares.\n",
    "\n",
    "\n",
    "# Guia para instalação e sugestões\n",
    "\n",
    "Nesta seção, são apresentadas algumas linhas guias para a instalação de Julia e de JuMP, e sugestões para ambientes para programação e ferramentas que já foram utilizadas pelo autor. Para instruções detalhadas, o leitor é referido aos respectivos manuais da Julia (https://julialang.org/downloads/), da JuMP (http://www.juliaopt.org/JuMP.jl/0.17/) e das ferramentas de desenvolvimento.\n",
    "\n",
    "## Julia\n",
    "\n",
    "Julia pode ser instalada em ambientes Linux, MacOS e Windows. Para a instalação em ambientes Linux, por exemplo, basta adicionar os repositórios da Julia (ppa:staticfloat/juliareleases e  ppa:staticfloat/julia-deps) ao gerenciador de pacotes utilizado e instalá-la como um pacote padrão. Para MacOS e Windows o pacote dmg e o arquivo executável (.exe) estão disponíveis em (https://julialang.org/downloads/). \n",
    "\n",
    "A instalação básica do Julia, conta com uma aplicação de linha de comando interativa, semelhante ao Python e Matlab. Essa opção é interessante para a visualização rápida de operações simples e instalação de pacotes. Uma alternativa para um desenvolvimento mais sofisticado é a utilização de editores de texto ou ambientes de desenvolvimento. Algumas opções são apresentadas a seguir.\n",
    "\n",
    "## JuMP\n",
    "\n",
    "Para instalar a JuMP, basta executar o comando Pkg.add(\"JuMP\") na linha de comando interativa da Julia. Esse é o procedimento padrão para instalar qualquer pacote da Julia. Para utilização do JuMP é necessário instalar também o pacote correspondente. Para o Gurobi, por exemplo, o comando é Pkg.add(\"Gurobi\"). A adição do pacote correspondente do Julia, não implica, necessariamente, na instalação do resolvedor no sistema, portanto, ainda pode ser necessária a instalação do resolvedor correspondente. O Cbc é um exemplo de resolvedor que não necessita de processos adicionais para funcionar -- necessita apenas do comando (Pkg.add(\"Cbc\")). A instalação de resolvedores está além do escopo deste documento, mas pode ser encontrada nos respectivos manuais. \n",
    "\n",
    "## Sugestões\n",
    "\n",
    "Além da linha de comando interativa e de editores de texto convencionais, Julia conta com a ferramenta online JuliaBox (juliabox.com), que permite o desenvolvimento e execução de código. Para o uso das funcionalidades padrão da Julia -- que não inclui os resolvedores -- no Julia Box, não é necessário nenhum tipo de instalação. Ainda, é possível instalar pacotes como o JuMP, na conta do usuário. Um dos casos de uso interessantes para o JuliaBox é a realização demonstrações e cursos, pois a ferramenta já oferece um ambiente funcional básico para o usuário, evitando possíveis problemas no processo de instalação. Também, o JuliaBox é interessante para criar e compartilhar Jupyter Notebooks.\n",
    "\n",
    "O Jupyter Notebook é uma ferramenta do projeto Jupyter (http://jupyter.org/) que permite a integração de texto, imagens, equações matemáticas e códigos-fonte de diversas linguagens além de Julia. Em um Jupyter Notebook, é possível executar e visualizar os resultados de algoritmos, permitindo, inclusive, sua alteração. Com isso, tem-se um certo grau de interatividade do leitor com o material. \n",
    "\n",
    "Tanto o JuliaBox quanto o Jupyter Notebook são ferramentas interessantes, no contexto de Programação Matemática, para disponibilização de materiais didáticos para tutoriais, palestras, cursos e até mesmo livros (vide https://github.com/jupyter/jupyter/wiki/A-gallery-of-interesting-Jupyter-Notebooks). Para o desenvolvimento de aplicações mais elaboradas, alternativas como o ambiente Atom ou Code devem ser consideradas. O Atom (https://atom.io/) é um editor de texto multi-plataforma e, com a instalação do <i>plugin</i> Juno (http://junolab.org/), é uma alternativa para ambiente de desenvolvimento para Julia. Outra opção é o Visual Studio Code (https://code.visualstudio.com/download) com o respectivo plugin para desenvolvimento em Julia, também multi-plaforma. Ambos possuem funcionalidades com o realce de sintaxe, autocompletamento de código, ferramentas de <i>debug</i> e integração com gerenciadores de versões. \n",
    "\n",
    "\n",
    "# Primeiros passos\n",
    "\n",
    "Nesta seção, são apresentados dois exemplos de utilização da pacote JuMP. O primeiro, introduz a sintaxe de definição de modelo, função objetivo, variáveis e restrições. O segundo é uma implementação parcial do clássico problema do caixeiro viajante, que utiliza funções para a construção de modelos com porte tipicamente encontrados em aplicações de Otimização Inteira Linear. A implementação é concluída na seção seguinte. São utilizados os pacotes JuMP, Cbc, Gurobi, Plots e PlotRecipes. Para instalação desses pacotes basta executar os comandos a seguir em terminal interativo do Julia -- ou no Jupyter Notebook."
   ]
  },
  {
   "cell_type": "code",
   "execution_count": 1,
   "metadata": {},
   "outputs": [
    {
     "name": "stderr",
     "output_type": "stream",
     "text": [
      "\u001b[1m\u001b[34mINFO: Nothing to be done\n",
      "\u001b[0m\u001b[1m\u001b[34mINFO: METADATA is out-of-date — you may not have the latest version of JuMP\n",
      "\u001b[0m\u001b[1m\u001b[34mINFO: Use `Pkg.update()` to get the latest versions of your packages\n",
      "\u001b[0m\u001b[1m\u001b[34mINFO: Nothing to be done\n",
      "\u001b[0m\u001b[1m\u001b[34mINFO: METADATA is out-of-date — you may not have the latest version of Cbc\n",
      "\u001b[0m\u001b[1m\u001b[34mINFO: Use `Pkg.update()` to get the latest versions of your packages\n",
      "\u001b[0m\u001b[1m\u001b[34mINFO: Nothing to be done\n",
      "\u001b[0m\u001b[1m\u001b[34mINFO: METADATA is out-of-date — you may not have the latest version of Gurobi\n",
      "\u001b[0m\u001b[1m\u001b[34mINFO: Use `Pkg.update()` to get the latest versions of your packages\n",
      "\u001b[0m\u001b[1m\u001b[34mINFO: Nothing to be done\n",
      "\u001b[0m\u001b[1m\u001b[34mINFO: METADATA is out-of-date — you may not have the latest version of Plotly\n",
      "\u001b[0m\u001b[1m\u001b[34mINFO: Use `Pkg.update()` to get the latest versions of your packages\n",
      "\u001b[0m\u001b[1m\u001b[34mINFO: Nothing to be done\n",
      "\u001b[0m\u001b[1m\u001b[34mINFO: METADATA is out-of-date — you may not have the latest version of PlotRecipes\n",
      "\u001b[0m\u001b[1m\u001b[34mINFO: Use `Pkg.update()` to get the latest versions of your packages\n",
      "\u001b[0m"
     ]
    }
   ],
   "source": [
    "Pkg.add(\"JuMP\");\n",
    "Pkg.add(\"Cbc\");\n",
    "Pkg.add(\"Gurobi\");\n",
    "# Pkg.add(\"CPLEX\"); # O Cplex pode ser instalado com esse comando.\n",
    "\n",
    "# Pacotes para visualização de resultados:\n",
    "Pkg.add(\"Plotly\");\n",
<<<<<<< HEAD
    "Pkg.add(\"PlotRecipes\");"
=======
    "Pkg.add(\"PlotRecipes\");\n",
    "Pkg.add(\"Graphs\");  # Adicionado após publicação"
>>>>>>> 9a805e14576238c890dd395e8423d4523c28dd65
   ]
  },
  {
   "cell_type": "markdown",
   "metadata": {},
   "source": [
<<<<<<< HEAD
    "O leitor é convidado a executar todos códigos apresentados. Para isso, pode-se utilizar o próprio Jupyter Notebook. Uma opção é utilizar o código-fonte <i>JuliaJumpTutorial.jl</i> disponível em: XXXXXX. Para executá-lo basta utilizar o comando <i>julia JuliaJumpTutorial.jl</i> em um terminal em um computador com uma instalação de Julia e do Gurobi. Para utilizar outro resolvedor, além do Gurobi, é necessária a alteração de trechos do código. As alterações para utilização do CPLEX são indicadas ao longo do documento.\n",
=======
    "O leitor é convidado a executar todos códigos apresentados. Para isso, pode-se utilizar o próprio Jupyter Notebook. Uma opção é utilizar o código-fonte <i>JuliaJumpTutorial.jl</i> disponível em: https://github.com/pedrocastellucci/MathematicalProgrammingCourse/tree/master/PODes_JuliaJump_Tutorial. Para executá-lo basta utilizar o comando <i>julia JuliaJumpTutorial.jl</i> em um terminal em um computador com uma instalação de Julia e do Gurobi. Para utilizar outro resolvedor, além do Gurobi, é necessária a alteração de trechos do código. As alterações para utilização do CPLEX são indicadas ao longo do documento.\n",
>>>>>>> 9a805e14576238c890dd395e8423d4523c28dd65
    "\n",
    "\n",
    "## Um exemplo simples\n",
    "\n",
    "Considere o seguinte problema de otimização:\n",
    "\n",
    "$Max\\ x + 2y$\n",
    "\n",
    "Sujeito a:\n",
    "\n",
    "$2x + 3y \\leq 25,$\n",
    "\n",
    "$3x + 2y \\leq 37,$\n",
    "\n",
    "$0 \\leq x \\leq 15,$\n",
    "\n",
    "$y \\in \\mathbb{Z}^+.$\n",
    "\n",
    "Para implementar o modelo utilizando JuMP, o primeiro passo é incluir os pacotes necessários e criar o objeto que armazena o modelo, com o resolvedor a ser utilizado. Nesse exemplo, é utilizado o Cbc, na sequência são feitos exemplos utilizando o Gurobi."
   ]
  },
  {
   "cell_type": "code",
   "execution_count": 2,
   "metadata": {
    "collapsed": true
   },
   "outputs": [],
   "source": [
    "using JuMP\n",
    "using Cbc\n",
    "\n",
    "# Criando o modelo com o resolvedor Cbc:\n",
    "model = Model(solver=CbcSolver());"
   ]
  },
  {
   "cell_type": "markdown",
   "metadata": {},
   "source": [
    "Em seguida, são definidas as variáveis com os respectivos domínios. Também, é necessário especificar o modelo ao qual as variáveis estão associadas. Então, podem ser definidas a função objetivo e as restrições, que também devem estar associadas a um modelo."
   ]
  },
  {
   "cell_type": "code",
   "execution_count": 3,
   "metadata": {},
   "outputs": [
    {
     "name": "stdout",
     "output_type": "stream",
     "text": [
      "Max x + 2 y\n",
      "Subject to\n",
      " 2 x + 3 y ≤ 25\n",
      " 3 x + 2 y ≤ 37\n",
      " 0 ≤ x ≤ 15\n",
      " y ≥ 0, integer\n",
      "\n"
     ]
    }
   ],
   "source": [
    "# 0 <= x <= 15\n",
    "@variable(model, x, lowerbound=0, upperbound=15)\n",
    "\n",
    "# y é variável inteira não negativa:\n",
    "@variable(model, y, lowerbound=0, Int)\n",
    "\n",
    "# Problema de maximização da função x + 2y:\n",
    "@objective(model, Max, x + 2y)\n",
    "\n",
    "# Restrições:\n",
    "@constraint(model, 2x + 3y <= 25)\n",
    "@constraint(model, 3x + 2y <= 37)\n",
    "\n",
    "# Impressão do modelo:\n",
    "println(model)"
   ]
  },
  {
   "cell_type": "markdown",
   "metadata": {},
   "source": [
    "A solução do modelo é obtida com o método <i>solve</i>. Esse método retorna o estado da solução encontrada, então, o código a seguir verifica se trata-se da solução ótima e a imprime, caso contrário, exibe uma mensagem com informações sobre o processo de solução."
   ]
  },
  {
   "cell_type": "code",
   "execution_count": 4,
   "metadata": {},
   "outputs": [
    {
     "name": "stdout",
     "output_type": "stream",
     "text": [
      "Solução ótima encontrada!\n",
      "x = 0.4999999999999982, y = 8.0\n",
      "Valor da função objetivo é 16.5\n"
     ]
    }
   ],
   "source": [
    "status = solve(model)\n",
    "\n",
    "if status == :Optimal\n",
    "    println(\"Solução ótima encontrada!\")\n",
    "    println(\"x = $(getvalue(x)), y = $(getvalue(y))\")\n",
    "    println(\"Valor da função objetivo é $(getobjectivevalue(model))\")\n",
    "else\n",
    "    println(\"Solução ótima não foi encontrada.\")\n",
    "end"
   ]
  },
  {
   "cell_type": "markdown",
   "metadata": {},
   "source": [
    "Note que o exemplo é simples e não representa, em questão de número de variáveis e restrições, os problemas de interesse acadêmico ou prático da área de Pesquisa Operacional. A seguir, é apresentada uma implementação parcial, que é finalizada na Seção 4, do problema do caixeiro viajante. Nessa implementação, são apresentadas as sintaxes do  e funções do JuMP que permitem modelar problemas cujo porte é correspondente ao estado-da-arte em pacotes computacionais baseados em <i>branch</i> e <i>cut</i> para a solução de problemas inteiros lineares mistos."
   ]
  },
  {
   "cell_type": "markdown",
   "metadata": {},
   "source": [
    "## O problema de caixeiro viajante\n",
    "\n",
    "Não está no escopo deste trabalho discutir a importância, métodos de solução nem diferentes modelos para o problema do caixeiro viajante, para isso o leitor é referido a <i>The traveling salesman problem: a computational study (D. L. Applegate, R. E. Bixby, V. Chvatal, and W. J. Cook, 2011)</i>. Aqui, é apresentando um modelo para o problema, que é utilizado como exemplo para explorar o pacote computacional JuMP.\n",
    "\n",
    "Sejam $V$ um conjunto de pontos a serem visitados por um viajante e $c_{ij}$ o custo de se deslocar do ponto $i$ para o ponto $j$, em que $i$, $j \\in V$, $i \\neq j$.  O problema do caixeiro viajante consiste em encontrar uma rota com menor custo que vistie todos os pontos exatamente uma vez. Uma formulação para o problema pode ser definida da seguinte forma. Sejam $x_{ij}$ variáveis binárias indicando se o viajante utiliza o caminho $(i, j)$, $i, j \\in V$, $i \\neq j$ como parte de sua rota. Com isso, tem-se o seguinte modelo para o problema:\n",
    "\n",
    "$$\n",
    "\\mbox{Min } \\sum_{i \\in V}\\sum_{j \\in V, i \\neq j} c_{ij}x_{ij},\\\\\n",
    "\\hspace{-4cm}\\mbox{sujeito a}\\\\\n",
    "\\sum_{i \\in V, i \\neq j} x_{ij} = 1, \\quad j \\in V, \\\\\n",
    "\\sum_{j \\in V, i \\neq j} x_{ij} = 1, \\quad i \\in V, \\\\\n",
    "\\sum_{(i, j) \\in S} x_{ij} \\leq |S|-1, \\quad S \\subset V,\\\\\n",
    "x_{ij} \\in \\{0, 1\\}, \\quad i, j \\in V, i \\neq j,\n",
    "$$\n",
    "\n",
    "A função objetivo minimiza o custo de percurso, enquanto que as restrições garantem que cada vértice é alcançado, o viajante sai de todo vértice e não há subciclos no percurso, respectivamente.\n",
    "\n",
    "Antes de implementar o modelo utilizando JuMP e Julia, considere o problema exemplo definido pelo código a seguir. O problema é definido pela posição cartesiana de cada ponto a ser visitado, então o código calcula os valores $c_{ij}$, $i, j \\in V, i \\neq j$, utilizando a distância euclidiana entre $i$ e $j$."
   ]
  },
  {
   "cell_type": "code",
   "execution_count": 5,
   "metadata": {},
   "outputs": [
    {
     "data": {
      "text/plain": [
       "13×13 Array{Float64,2}:\n",
       " 0.0  0.0  0.0  0.0  0.0  0.0  0.0  0.0  0.0  0.0  0.0  0.0  0.0\n",
       " 0.0  0.0  0.0  0.0  0.0  0.0  0.0  0.0  0.0  0.0  0.0  0.0  0.0\n",
       " 0.0  0.0  0.0  0.0  0.0  0.0  0.0  0.0  0.0  0.0  0.0  0.0  0.0\n",
       " 0.0  0.0  0.0  0.0  0.0  0.0  0.0  0.0  0.0  0.0  0.0  0.0  0.0\n",
       " 0.0  0.0  0.0  0.0  0.0  0.0  0.0  0.0  0.0  0.0  0.0  0.0  0.0\n",
       " 0.0  0.0  0.0  0.0  0.0  0.0  0.0  0.0  0.0  0.0  0.0  0.0  0.0\n",
       " 0.0  0.0  0.0  0.0  0.0  0.0  0.0  0.0  0.0  0.0  0.0  0.0  0.0\n",
       " 0.0  0.0  0.0  0.0  0.0  0.0  0.0  0.0  0.0  0.0  0.0  0.0  0.0\n",
       " 0.0  0.0  0.0  0.0  0.0  0.0  0.0  0.0  0.0  0.0  0.0  0.0  0.0\n",
       " 0.0  0.0  0.0  0.0  0.0  0.0  0.0  0.0  0.0  0.0  0.0  0.0  0.0\n",
       " 0.0  0.0  0.0  0.0  0.0  0.0  0.0  0.0  0.0  0.0  0.0  0.0  0.0\n",
       " 0.0  0.0  0.0  0.0  0.0  0.0  0.0  0.0  0.0  0.0  0.0  0.0  0.0\n",
       " 0.0  0.0  0.0  0.0  0.0  0.0  0.0  0.0  0.0  0.0  0.0  0.0  0.0"
      ]
     },
     "execution_count": 5,
     "metadata": {},
     "output_type": "execute_result"
    }
   ],
   "source": [
    "# Posições de cada ponto a ser visitado:\n",
    "citiesDict = Dict{Int, Any}()\n",
    "citiesDict[1] = (523, 418)\n",
    "citiesDict[2] = (527, 566)\n",
    "citiesDict[3] = (435, 603)\n",
    "citiesDict[4] = (386, 660)\n",
    "citiesDict[5] = (346, 692)\n",
    "citiesDict[6] = (431, 730)\n",
    "citiesDict[7] = (419, 818)\n",
    "citiesDict[8] = (347, 520)\n",
    "citiesDict[9] = (332, 330)\n",
    "citiesDict[10] = (165, 374)\n",
    "citiesDict[11] = (196, 198)\n",
    "citiesDict[12] = (187, 108)\n",
    "citiesDict[13] = (210, 63)\n",
    "\n",
    "nCities = length(citiesDict)\n",
    "# Matriz para amazenar as distâncias entre os pontos:\n",
    "c = zeros(nCities, nCities)"
   ]
  },
  {
   "cell_type": "markdown",
   "metadata": {},
   "source": [
    "Pode-se utilizar a própria Julia para construção de uma visualização do exemplo. O trecho de código a seguir depende de bibliotecas para construção de gráficos. A instalação dessas bibliotecas está além do escopo deste documento, no entanto, não é necessário executá-lo para o correto funcionamento dos demais trechos."
   ]
  },
  {
   "cell_type": "code",
   "execution_count": 6,
   "metadata": {},
   "outputs": [
    {
     "name": "stderr",
     "output_type": "stream",
     "text": [
      "WARNING: Method definition describe(AbstractArray) in module StatsBase at /home/pbcusp/.julia/v0.5/StatsBase/src/scalarstats.jl:573 overwritten in module DataFrames at /home/pbcusp/.julia/v0.5/DataFrames/src/abstractdataframe/abstractdataframe.jl:407.\n"
     ]
    },
    {
     "data": {
      "text/html": [
       "<img src=\"data:image/png;base64,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\" />"
      ]
     },
     "execution_count": 6,
     "metadata": {},
     "output_type": "execute_result"
    }
   ],
   "source": [
    "# Pkg.add(\"PyPlot\")  # Instalação do pacote para plotagem.\n",
    "using PlotRecipes  # Pacote com a função para plotar grafos\n",
    "\n",
    "# Backend utilizado para plotagem:\n",
    "pyplot()  # Melhor visualização, mas possui mais dependências.\n",
    "# plotly()  # Mais simples.\n",
    "\n",
    "# Definição da posição de cada vértice para desenho:\n",
    "posX, posY = [], []\n",
    "\n",
    "for i in sort(collect(keys(citiesDict)))\n",
    "    posI = citiesDict[i]\n",
    "    for j in sort(collect(keys(citiesDict)))\n",
    "        posJ = citiesDict[j]\n",
    "        c[i, j] = ((posI[1] - posJ[1])^2 + (posI[2] - posJ[2])^2)^0.5\n",
    "    end \n",
    "    append!(posX, posI[1])\n",
    "    append!(posY, posI[2])\n",
    "end\n",
    "\n",
    "# Configuração do desenho\n",
    "graphplot(1:nCities, 1:nCities, names=1:nCities,\n",
    "    x=posX, y=posY, fontsize=10,\n",
    "    m=:white, l=:black)"
   ]
  },
  {
   "cell_type": "markdown",
   "metadata": {},
   "source": [
    "O primeiro passo para implementação do modelo é a inclusão dos pacotes computacionais que serão utilizados. Para esse exemplo, foi utilizado o pacote JuMP e o Gurobi. Em seguida, define-se o objeto modelo, no qual podem-se definir parâmetros para solução: foram limitados tempo de solução, número de processadores, desabilitadas as heurísticas do Gurobi -- é implementada uma heurística na Seção 4.3 -- e suprimida a impressão de informações sobre o processo de solução. Com o modelo, definem-se as variáveis, a função objetivo e as restrições do problema, respectivamente. Note o uso da sintaxe para a definição de variáveis matriciais e a função <i>sum</i> como atalho para a definição de somatórios."
   ]
  },
  {
   "cell_type": "code",
   "execution_count": 7,
   "metadata": {
    "collapsed": true
   },
   "outputs": [],
   "source": [
    "using JuMP\n",
    "using Gurobi\n",
    "# using CPLEX\n",
    "\n",
    "# Definição do modelo e parâmetros para a solução: \n",
    "model = Model(solver=GurobiSolver(TimeLimit=20, Threads=1, \n",
    "        Heuristics=0.0, OutputFlag=0))\n",
    "\n",
    "# Para o CPLEX pode-se usar:\n",
    "# model = Model(solver=CplexSolver(CPX_PARAM_TILIM=20, \n",
    "#         CPX_PARAM_THREADS=1, CPX_PARAM_HEURFREQ=0,\n",
    "#         CPX_PARAM_SCRIND=0))\n",
    "\n",
    "# Definição da variável matricial xij.\n",
    "# Note que a variável nCities foi definida anteriormente.\n",
    "@variable(model, x[i=1:nCities, j=1:nCities; i != j], Bin)\n",
    "\n",
    "# Função objetivo:\n",
    "@objective(model, Min, sum(c[i, j] * x[i, j]\n",
    "        for i in 1:nCities, j in 1:nCities if i != j))\n",
    "\n",
    "# Restrições para garantir a saída de todo vértice:\n",
    "for i in 1:nCities\n",
    "    @constraint(model, sum(x[i, j] for j in 1:nCities if i != j) == 1)\n",
    "end \n",
    "\n",
    "# Restrições para garantir a chegada em cada vértice:\n",
    "for j in 1:nCities\n",
    "    @constraint(model, sum(x[i, j] for i in 1:nCities if i != j) == 1)\n",
    "end"
   ]
  },
  {
   "cell_type": "markdown",
   "metadata": {},
   "source": [
    "A solução é obtida pela chamada do método <i>solve</i> e pode-se utilizar Julia para visualizar a solução."
   ]
  },
  {
   "cell_type": "code",
   "execution_count": 8,
   "metadata": {
    "collapsed": true
   },
   "outputs": [],
   "source": [
    "status = solve(model)\n",
    "\n",
    "if status == :Optimal\n",
    "    edgeOrigin = []\n",
    "    edgeDest = []\n",
    "\n",
    "    for i in keys(citiesDict)\n",
    "        for j in keys(citiesDict)\n",
    "            if i != j && getvalue(x[i, j]) > 0.99\n",
    "                append!(edgeOrigin, i)\n",
    "                append!(edgeDest, j)\n",
    "            end\n",
    "        end\n",
    "    end\n",
    "else\n",
    "    println(\"Solução ótima não encontrada!\")\n",
    "end"
   ]
  },
  {
   "cell_type": "code",
   "execution_count": 9,
   "metadata": {},
   "outputs": [
    {
     "data": {
      "text/html": [
       "<img src=\"data:image/png;base64,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\" />"
      ]
     },
     "metadata": {},
     "output_type": "display_data"
    }
   ],
   "source": [
    "# Visualizando a solução: \n",
    "display(\n",
    "        graphplot(\n",
    "            edgeOrigin, edgeDest, names=1:nCities, \n",
    "            x=posX, y=posY, fontsize=10,\n",
    "            m=:white, l=:black\n",
    "        )\n",
    "    )"
   ]
  },
  {
   "cell_type": "markdown",
   "metadata": {},
   "source": [
    "Devido a ausência das restrições de eliminação de subciclo, a solução não corresponde a uma rota desejada. Uma desvantagem das restrições de eliminação de subciclos apresentadas é o seu número exponencial em relação ao número de pontos a serem visitados. Por isso, enumerar todas essas restrições <i>a priori</i> é factível apenas para exemplos com poucos pontos e uma abordagem mais eficiente é adicionar restrições apenas quando são necessárias. Na sequência, é utilizada a <i>callback</i> de <i>lazy constraints</i> da JuMP para inclusão das restrições de eliminação de subciclo de forma eficiente. \n",
    "\n",
    "# <i>Callbacks</i>\n",
    "\n",
    "<i>Callbacks</i> são funções que permitem ao usuário personalizar o procedimento do resolvedor. Em geral, são utilizadas para explorar características específicas dos problemas ou obter informações detalhadas sobre andamento do processo de solução. No momento da escrita deste artigo, JuMP dispunha de três <i>callbacks</i> para customização, que são apresentadas nas Subseçõs 4.1-4.3, além de <i>callbacks</i> informativas -- que possuem o uso relativamente simples. Informações detalhadas sobre essa funcionalidade podem ser encontradas na documentação oficial da JuMP (http://www.juliaopt.org/JuMP.jl/0.17/). Ainda, destaca-se que o comportamento específico de cada uma das <i>callbacks</i> pode depender do resolvedor utilizado e recomenda-se consultar seu respectivo manual. Inclusive, a número de resolvedores que suportam seu uso é limitado (Gurobi, CPLEX, GLPK e SCIP eram os suportados no momento da escrita deste artigo).\n",
    "\n",
    "## <i>Lazy constraints</i>\n",
    "\n",
    "Uma das utilidades da <i>callback lazy constraints</i> é em casos em que o conjunto completo de restrições é muito numeroso para ser explicitado. Para utilizar essa <i>callback</i>, é necessário implementar uma função que é chamada sempre que o resolvedor encontrar uma solução inteira, permitindo, então, a adição de restrições ao modelo. Como exemplo, segue uma implementação de função que identifica o menor subciclo presente na solução do caixeiro viajante apresentada anteriormente e, caso ele exista, adiciona uma restrição que o elimina. Note que é possível utilizar outros pacotes de Julia dentro de uma <i>callback</i>, como foi feito no exemplo com o pacote <i>Graphs</i>, permitindo uma manipulação simples do grafo da solução.\n"
   ]
  },
  {
   "cell_type": "code",
   "execution_count": 10,
   "metadata": {},
   "outputs": [
    {
     "data": {
      "text/plain": [
       "lazyConstraintsCallback (generic function with 1 method)"
      ]
     },
     "execution_count": 10,
     "metadata": {},
     "output_type": "execute_result"
    }
   ],
   "source": [
    "using Graphs\n",
    "\n",
    "function lazyConstraintsCallback(cb)\n",
    "\n",
    "    # Criando um grafo:\n",
    "    g = simple_graph(nCities, is_directed=false)\n",
    "\n",
    "    for i in 1:nCities, j in 1:nCities\n",
    "        if i != j\n",
    "            if getvalue(x[i, j]) > 0.01\n",
    "                add_edge!(g, i, j)  # Adicionando as arestas.\n",
    "            end\n",
    "        end\n",
    "    end\n",
    "\n",
    "    # Encontrando os componentes conexos do grafo:\n",
    "    cc = connected_components(g)\n",
    "\n",
    "    if length(cc) > 1\n",
    "        # Caso só haja uma componente conexa\n",
    "        # não há subciclo e não se adiciona \n",
    "        # nenhuma restrição.\n",
    "        \n",
    "        minTour = sort(cc, by=length)[1]\n",
    "        subtourLhs = AffExpr()\n",
    "        \n",
    "        # Encontrando as arestas que fazem parte do subciclo\n",
    "        for i in minTour\n",
    "            for j in minTour\n",
    "                if i != j && getvalue(x[i, j]) > 0.01\n",
    "                    subtourLhs += x[i, j]\n",
    "                end \n",
    "            end\n",
    "        end\n",
    "        \n",
    "        # Adicionando a restrição:\n",
    "        @lazyconstraint(cb, subtourLhs <= length(minTour) - 1)\n",
    "    end\n",
    "end # End function"
   ]
  },
  {
   "cell_type": "markdown",
   "metadata": {},
   "source": [
    "Com a função de inclução de restrições de eliminação de subciclo, o único passo necessário, além da implementação do modelo, é informar que o resolvedor deve considerar função correta para <i>callback</i>. Isso deve ser feito antes da chamada do método <i>solve</i>. Como feito a seguir:"
   ]
  },
  {
   "cell_type": "code",
   "execution_count": 11,
   "metadata": {},
   "outputs": [
    {
     "data": {
      "text/html": [
       "<img src=\"data:image/png;base64,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\" />"
      ]
     },
     "execution_count": 11,
     "metadata": {},
     "output_type": "execute_result"
    }
   ],
   "source": [
    "# [... Código com a implementação do modelo ...]\n",
    "\n",
    "addlazycallback(model, lazyConstraintsCallback)\n",
    "\n",
    "solve(model)\n",
    "\n",
    "edgeOrigin = []\n",
    "edgeDest = []\n",
    "\n",
    "for i in keys(citiesDict)\n",
    "    for j in keys(citiesDict)\n",
    "        if i != j && getvalue(x[i, j]) > 0.01\n",
    "            append!(edgeOrigin, i)\n",
    "            append!(edgeDest, j)\n",
    "        end\n",
    "    end\n",
    "end\n",
    "\n",
    "graphplot(edgeOrigin, edgeDest, names=1:nCities,\n",
    "    x=posX, y=posY, fontsize=10, m=:white, l=:black)"
   ]
  },
  {
   "cell_type": "markdown",
   "metadata": {},
   "source": [
    "No caso do Gurobi, é possível visualizar o número de restrições adicionadas durante o processo de resolução. As informações disponíveis podem variar de acordo com o pacote computacional utilizado e podem ser consultadas no respectivo manual.\n",
    "\n",
    "## <i> User cuts</i>\n",
    "\n",
    "A <i>callback user cuts</i> pode ser interessante caso o usuário conheça desigualdades válidas (cortes) para o seu problema e seja custoso adicioná-las <i>a priori</i>. Essa <i>callback</i> é chamada sempre que o resolvedor encontra uma solução ótima para a relaxação linear do problema. Embora chamada em momento diferente, a sua implementação é semelhante ao caso de <i>lazy constraints</i>."
   ]
  },
  {
   "cell_type": "code",
   "execution_count": 12,
   "metadata": {},
   "outputs": [
    {
     "data": {
      "text/plain": [
       "userCutsCallback (generic function with 1 method)"
      ]
     },
     "execution_count": 12,
     "metadata": {},
     "output_type": "execute_result"
    }
   ],
   "source": [
    "using Graphs\n",
    "\n",
    "function userCutsCallback(cb)\n",
    "\n",
    "    # Criando um grafo:\n",
    "    g = simple_graph(nCities, is_directed=false)\n",
    "\n",
    "    for i in 1:nCities, j in 1:nCities\n",
    "        if i != j\n",
    "            if getvalue(x[i, j]) > 0.01\n",
    "                add_edge!(g, i, j)  # Adicionando as arestas.\n",
    "            end\n",
    "        end\n",
    "    end\n",
    "\n",
    "    # Encontrando os componentes conexos do grafo:\n",
    "    cc = connected_components(g)\n",
    "\n",
    "    minTour = sort(cc, by=length)[1]\n",
    "    subtourLhs = AffExpr()\n",
    "\n",
    "    # Encontrando as arestas que fazem parte do subciclo\n",
    "    countEdges = 0\n",
    "    for i in minTour\n",
    "        for j in minTour\n",
    "            if i != j && getvalue(x[i, j]) > 0.01\n",
    "                subtourLhs += x[i, j]\n",
    "                countEdges += 1\n",
    "            end \n",
    "        end\n",
    "    end\n",
    "\n",
    "    # Adicionando a restrição:\n",
    "    if length(cc) > 1\n",
    "        @usercut(cb, subtourLhs <= length(minTour) - 1)\n",
    "    elseif countEdges > length(vertices(g))\n",
    "        @usercut(cb, subtourLhs == length(vertices(g)))\n",
    "    end\n",
    "    \n",
    "end # End function"
   ]
  },
  {
   "cell_type": "markdown",
   "metadata": {},
   "source": [
    "É importante destacar que as restrições adicionadas utilizando <i>user cuts</i> não devem alterar o conjunto de soluções factíveis do problema original, elas têm a função, apenas, de melhorar o limitante dual do problema. Portanto, para o exemplo do caixeiro viajante aqui apresentado, é necessário utilizar as duas <i>callbacks</i>."
   ]
  },
  {
   "cell_type": "code",
   "execution_count": 13,
   "metadata": {},
   "outputs": [
    {
     "data": {
      "text/plain": [
       ":Optimal"
      ]
     },
     "execution_count": 13,
     "metadata": {},
     "output_type": "execute_result"
    }
   ],
   "source": [
    "addcutcallback(model, userCutsCallback)\n",
    "addlazycallback(model, lazyConstraintsCallback)\n",
    "\n",
    "solve(model)"
   ]
  },
  {
   "cell_type": "markdown",
   "metadata": {},
   "source": [
    "## <i> User heuristics</i>\n",
    "\n",
    "A <i>callback user heuristics</i> permite que sejam submetidas soluções heurísticas para o resolvedor. O comportamento específico dessa <i>callback</i> depende do resolvedor que está sendo utilizado e é necessário consultar o respectivo manual. Para o exemplo do caixeiro viajante, considere uma heurística que inclui na rota arestas correspondentes as variáveis com valores no intervalo (0,1; 1]. Isto é, atribui 1 a variáveis cuja a solução da relaxação é maior do que 0,1. Essa procedimento constrói uma solução candidata, que é submetida ao Gurobi, caso ela seja factível, ela é incluída nas soluções encontradas até o momento, caso contrário ela é desconsiderada. Esse procedimento pode ser implementado da seguinte maneira:"
   ]
  },
  {
   "cell_type": "code",
   "execution_count": 14,
   "metadata": {},
   "outputs": [
    {
     "data": {
      "text/plain": [
       "userHeuristicsCallback (generic function with 1 method)"
      ]
     },
     "execution_count": 14,
     "metadata": {},
     "output_type": "execute_result"
    }
   ],
   "source": [
    "function userHeuristicsCallback(cb)\n",
    "    for i in 1:nCities, j in 1:nCities\n",
    "        if i != j\n",
    "            if  getvalue(x[i, j]) > 0.1\n",
    "                # Atribuindo um valor à variável:\n",
    "                setsolutionvalue(cb, x[i, j], 1)\n",
    "            end            \n",
    "        end\n",
    "    end\n",
    "    \n",
    "    # Submetendo solução:\n",
    "    addsolution(cb)                    \n",
    "    \n",
    "end"
   ]
  },
  {
   "cell_type": "markdown",
   "metadata": {},
   "source": [
    "Para o exemplo, foram atribuídos valores a todas as variáveis do problema. Isso não é uma exigência, pode-se submeter uma solução parcial, atribuindo valores à apenas algumas variáveis. Novamente, o tratamento dos valores restantes depende do resolvedor. Para utilizar a função implementada como <i>callback</i> procede-se de maneira semelhante aos casos anteriores, podendo-se, inclusive, utilizar outras <i>callbacks</i> simultanetamente."
   ]
  },
  {
   "cell_type": "code",
   "execution_count": 15,
   "metadata": {},
   "outputs": [
    {
     "data": {
      "text/plain": [
       ":Optimal"
      ]
     },
     "execution_count": 15,
     "metadata": {},
     "output_type": "execute_result"
    }
   ],
   "source": [
    "addcutcallback(model, userCutsCallback)\n",
    "addlazycallback(model, lazyConstraintsCallback)\n",
    "addheuristiccallback(model, userHeuristicsCallback)\n",
    "\n",
    "solve(model)"
   ]
  },
  {
   "cell_type": "markdown",
   "metadata": {},
   "source": [
    "# Conclusões e recursos adicionais\n",
    "\n",
    "Julia e JuMP são ferramentas computacionais recentes que se aproveitam das vantagens de diferentes linguagens de programação e pacotes computacioanis para melhorar o compromisso entre produtividade e eficiência computacional em relação às alternativas usuais. Embora, tanto Julia quanto JuMP, ainda não possuam uma versão 1.0 a comunidade científica tem mostrado interesse no uso e desenvolvimento de tais ferramentas (vide, por exemplo, https://julialang.org/teaching, https://julialang.org/publications e https://github.com/pedrocastellucci/MathematicalProgrammingCourse). Este tutorial tenta chamar atenção da comunidade científica e demais interessados, principalmente dos programadores matemáticos, para a linguagem Julia e mais especificamente para a biblioteca JuMP.\n",
    "\n",
    "Além das referências já mencionadas ao longo do texto, o leitor é referido ao livro Julia Programming for Operations Research: A Primer on Computing. Ao canal https://www.youtube.com/user/JuliaLanguage, onde podem ser encontradas palestras das conferências anuais de Julia (JuliaCon, realizada desde 2014) com conteúdos básicos e avançados da própria linguagem e de suas bibliotecas."
   ]
  }
 ],
 "metadata": {
  "kernelspec": {
<<<<<<< HEAD
   "display_name": "Julia 0.5.0",
   "language": "julia",
   "name": "julia-0.5"
=======
   "display_name": "Julia 0.6.0",
   "language": "julia",
   "name": "julia-0.6"
>>>>>>> 9a805e14576238c890dd395e8423d4523c28dd65
  },
  "language_info": {
   "file_extension": ".jl",
   "mimetype": "application/julia",
   "name": "julia",
<<<<<<< HEAD
   "version": "0.5.0"
=======
   "version": "0.6.0"
>>>>>>> 9a805e14576238c890dd395e8423d4523c28dd65
  }
 },
 "nbformat": 4,
 "nbformat_minor": 2
}
