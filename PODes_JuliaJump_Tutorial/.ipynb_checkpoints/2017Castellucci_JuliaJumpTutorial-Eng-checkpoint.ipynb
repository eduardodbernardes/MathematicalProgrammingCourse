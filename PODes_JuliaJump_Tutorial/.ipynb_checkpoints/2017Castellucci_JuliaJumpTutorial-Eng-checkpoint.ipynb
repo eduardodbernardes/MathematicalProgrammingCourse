{
 "cells": [
  {
   "cell_type": "markdown",
   "metadata": {},
   "source": [
    "# Julia and JuMP: new tools for Mathematical Programming\n",
    "Pedro B. Castellucci\n",
    "\n",
    "<b>The original version, in Portuguese, of this tutorial was published on <i>Pesquisa Operacional para o Desenvolvimento</i>. If you are distributing, modifying or reproducing please cite the original reference:\n",
    "CASTELLUCCI, Pedro Belin. JULIA E JuMP: NOVAS FERRAMENTAS PARA PROGRAMAÇÃO MATEMÁTICA. Pesquisa Operacional para o Desenvolvimento, [S.l.], v. 9, n. 2, p. 48-61, ago. 2017. ISSN 1984-3534</b>\n",
    "\n",
    "There are numerous programming languanges for general and cientific applications. However, specially for cientific applications, it is usual for languages to be well-suited for some task (e.g. algorithm development) and not efficient for others (e.g. graphics generations for results visualization). Julia was created as an alternative to aggregate advantages of various languages. In this tutorial, we present Julia and JuMP as an option for approaching Mathematical Programming challenges, focusing on Mixed Integer Linear Programming. The JuMP package provides a modelling language which is solver independent, allowing even the use of callback routines. Here, we present installation and an introductory development guide, besides examples with common callbacks.\n",
    "\n",
    "<b>Keywords: Mixed Integer Linear Programming; Programming language; Modelling language.</b>\n",
    "\n",
    "\n",
    "# Why Julia and JuMP?\n",
    "\n",
    "Most programming languagens used in the optimization context usually has disadvantages regarding productivity or performance. As examples from the optimization literature we can cite C/C++ and Python (or Java). Both are opposite extremes  regarding performance and productivity. C/C++ is a language know, in the context of optimization, for allowing the implementation of algorithms with high execution speed, which is important for stablishing state-of-the-art benchmarks. However, it is a languange that requires deep understanding regarding memory hierarchy, memory management, architecture, operating system, leading to a poor producitivity. On the other extreme, Python has many different high-level toolbox for and is expressive, allowing the implementation of sophisticated algorithms with relatively few lines of code, even though it  has a performance inferior the C/C++ in some orders of magnitude (see julialang.org/benchmarks).\n",
    "\n",
    "Julia is a general-purpose language, open-source, which aims at having a better trade-off between performance and productivity. Julia was created by users of Matlab, Lisp, Python, R and C/C++, identifying that these languages were powerful for some important cientific computation but very inneficient for others (https://julialang.org/blog/2012/02/why-we-created-julia). Although acknowledging their ambition, the goal of the creators of Julia is to have a language able to aggregate advantages of different programming languages such as the productivity of Python and the computational efficiency of C. A group of four researchers created Julia in 2012, the source repository of the language (https://github.com/JuliaLang/julia) have more than 500 collaborators and there are various online resources (e-mail list, IRC channel, GitHub, blogs, video channels and social networks). Furthermore, there are local groups around the world like in Chicago (U.S.A.), Ottawa (Canada), Londres (Inglaterra), Beijing (China), Sydney (Australia), Sao Paulo and Rio de Janeiro (Brazil) and international conferences (https://julialang.org/). \n",
    "\n",
    "To the time of this writing, Julia has not reached a 1.0 version, however there are scientific publications and academic courses using the language. Due to its high productivity and the availability of scientific packages, there are publications  in Julia in different areas: genetics, parallel computing, linear algebra, statistics, machine learning and other. Also, courses in Linear and Integer Programming, risk analysis, computational neuroscience, econometrics, big data, signal processing and molecular biology. For an extensive list, the reader is referred to the official website of the project (julialang.org).\n",
    "\n",
    "Here, the focusing is on the applicability of Julia for Mathematical Programming, specially in Mixed Integer Linear Programming. Particularly, we explore JuMP -- Julia for Mathematical Programming. JuMP is a modelling language embedded in Julia which currently supports 10 solvers of Linear, Mixed Integer Linear, Second order conic, Semidefinite and Non-linear Programming (for the complete list see http://www.juliaopt.org/JuMP.jl/0.17/). One of the main features of JuMP is the independence of the solve, namely, a model can be implemented using JuMP and solved using different software packages.\n",
    "\n",
    "This document, is structure to present an installation guide for Julia, JuMP and suggestions for the development environment. Then, we present a simple example for introducing the syntax of definition of variables, constraints and objective function. Following, the classical Traveling Salesman Problem is used to illustrated a bigger model and the utilization of callbacks, respectively. Finally, we make concluding remarks and list complementary resources.\n",
    "\n",
    "\n",
    "# Installation guidelines and suggestion\n",
    "\n",
    "This section present guidelines for installing Julia and Julia, besides suggestions for the programming enviroment and tools which were used by the author. For detailed instructions, the reader is referred to the correspondent manuals of Julia (https://julialang.org/downloads/), JuMP (http://www.juliaopt.org/JuMP.jl/0.17/) and the development tools. This tutorial was tested in Julia 0.5.\n",
    "\n",
    "\n",
    "## Julia\n",
    "\n",
    "We can install Julia in Linux, MacOS and Windows. For example, for installing in Linux, we just have to add Julia repositories (ppa:staticfloat/juliareleases and ppa:staticfloat/julia-deps) to the package manager and installed as any other official package. For MacOS and Windows the dmg package and executable are available at (https://julialang.org/downloads/). \n",
    "\n",
    "The basic Julia installation has a command line tool, similar to Python and Matlab. This tool is an option for a quick visualization of simple operations and package installation. An alternative for a more sophisticated is the usage of text editors and development enviroments. Some options are presented in the following.\n",
    "\n",
    "\n",
    "## JuMP\n",
    "\n",
    "To install JuMP, we just have to issue the command Pkg.add(\"JuMP\") in the command line. This is the default procedure for installing any Julia package. Also, there is the need to install a solver. Gurobi, for example, the command is Pkg.add(\"Gurobi\"). The addition of the corresponding package does not guarantee the installation of the solver and the corresponding manual should be checked. Cbc is a solver that does not require additional procedures -- it only requires the command Pkg.add(\"Cbc\"). The installation of the solver is beyond the scope of this document.\n",
    "\n",
    "\n",
    "## Recommedations\n",
    "\n",
    "\n",
    "Besides the command line and text editor, Julia has an online tool (JuliaBox -- juliabox.com), that allows for the development and execution of code. For using the default Julia functionalities in JuliaBox, there is no need for any additional installation. Also, it is possible to install packages, like JuMP, in the user account. One of the use cases for JuliaBox is in performing demos and courses, since the tool already offers a complete basic programming enviroment for the user, minimizing possible issues in the installation process. Furthermore, JuliaBox is interesting for creating and sharing Jupyter Notebooks.\n",
    "\n",
    "Jupyter Notebook is a tool from project Jupyter (http://jupyter.org/) allows the integration of text, images, mathematical notation and source code from other languages other than Julia. In a Jupyter Notebook, we can execute and visualize the results of algorithms, allowing even adaptations. Thereby, there is a degree of interactive with the reader.\n",
    "\n",
    "In the context of Mathematical Programming, both JuliaBox and Jupyter Notebook are interesting tools for sharing tutorials, talks, courses and even books (see https://github.com/jupyter/jupyter/wiki/A-gallery-of-interesting-Jupyter-Notebooks). For developing more sophisticated, alternatives like Atom and Visual Studio Code should be considered. Atom (https://atom.io/) is an multi-plataform editor and is an option for and development enviroment for Julia, with plugin Juno (http://junolab.org/). Also, Visual Studio Code (https://code.visualstudio.com/download) with its Julia development plugin can also be used. Both enviroments have capabilities like syntax highlight, autocomplete, debuggin tools and version control integration.\n",
    "\n",
    "\n",
    "# First steps\n",
    "\n",
    "This section presents two examples using JuMP. The first introduces syntax of definition of model, objective function, variables and constraint. The second is a partial implementation of the classical Traveling Salesman Problem, which uses function for building models with size that are typically found in Mixed Integer Linear Programming applications. Its implementations is finished in the following section. JuMP, Cbc, Gurobi, Plots, PlotRecipes and Graph package are used. For installing the packages, we have to issie the following commands in a Julia command line -- or in the Jupyter Notebook."
   ]
  },
  {
   "cell_type": "code",
   "execution_count": 18,
   "metadata": {},
   "outputs": [
    {
     "name": "stderr",
     "output_type": "stream",
     "text": [
      "\u001b[1m\u001b[36mINFO: \u001b[39m\u001b[22m\u001b[36mPackage Graphs is already installed\n",
      "\u001b[39m\u001b[1m\u001b[36mINFO: \u001b[39m\u001b[22m\u001b[36mMETADATA is out-of-date — you may not have the latest version of Graphs\n",
      "\u001b[39m\u001b[1m\u001b[36mINFO: \u001b[39m\u001b[22m\u001b[36mUse `Pkg.update()` to get the latest versions of your packages\n",
      "\u001b[39m"
     ]
    }
   ],
   "source": [
    "# Pkg.update()\n",
    "Pkg.add(\"JuMP\");\n",
    "Pkg.add(\"Cbc\");\n",
    "Pkg.add(\"Gurobi\");\n",
    "Pkg.add(\"CPLEX\"); # O Cplex pode ser instalado com esse comando.\n",
    "\n",
    "Pacotes para visualização de resultados:\n",
    "Pkg.add(\"Plotly\");\n",
    "Pkg.add(\"PlotRecipes\");\n",
    "Pkg.add(\"Graphs\");"
   ]
  },
  {
   "cell_type": "markdown",
   "metadata": {},
   "source": [
    "We invite the reader to execute the source code presented here. For this, it is possible to use the own Jupyter Notebook. An option is to use the source code <i>JuliaJumpTutorial.jl</i>, available https://github.com/pedrocastellucci/MathematicalProgrammingCourse/tree/master/PODes_JuliaJump_Tutorial. To execute it, we can issue <i>julia JuliaJumpTutorial.jl</i> in a command line tool with Julia and Gurobi installations. Other solvers can be used by changing parts of the source code. The changes for using CPLEX are indicating along the document.\n",
    "\n",
    "\n",
    "## A simple example\n",
    "\n",
    "Consider the following optimization problem:\n",
    "\n",
    "$Max\\ x + 2y$\n",
    "\n",
    "Subject to:\n",
    "\n",
    "$2x + 3y \\leq 25,$\n",
    "\n",
    "$3x + 2y \\leq 37,$\n",
    "\n",
    "$0 \\leq x \\leq 15,$\n",
    "\n",
    "$y \\in \\mathbb{Z}^+.$\n",
    "\n",
    "To implement the model using JuMP, the first step is to include the needed packages and create the object the manages the model, with the solver to be used. This example uses Cbc as solver, in the following examples, we use Gurobi.\n"
   ]
  },
  {
   "cell_type": "code",
   "execution_count": 19,
   "metadata": {
    "collapsed": true
   },
   "outputs": [],
   "source": [
    "using JuMP\n",
    "using Cbc\n",
    "\n",
    "# Criando o modelo com o resolvedor Cbc:\n",
    "model = Model(solver=CbcSolver());"
   ]
  },
  {
   "cell_type": "markdown",
   "metadata": {},
   "source": [
    "Then, we define variable and their domains. Also, we need to specify the model which is associated with the variable. So, we may define the objective function and constraints, which also must be associated with a model."
   ]
  },
  {
   "cell_type": "code",
   "execution_count": 20,
   "metadata": {},
   "outputs": [
    {
     "name": "stdout",
     "output_type": "stream",
     "text": [
      "Max x + 2 y\n",
      "Subject to\n",
      " 2 x + 3 y <= 25\n",
      " 3 x + 2 y <= 37\n",
      " 0 <= x <= 15\n",
      " y >= 0, integer\n",
      "\n"
     ]
    }
   ],
   "source": [
    "# 0 <= x <= 15\n",
    "@variable(model, x, lowerbound=0, upperbound=15)\n",
    "\n",
    "# y é variável inteira não negativa:\n",
    "@variable(model, y, lowerbound=0, Int)\n",
    "\n",
    "# Problema de maximização da função x + 2y:\n",
    "@objective(model, Max, x + 2y)\n",
    "\n",
    "# Restrições:\n",
    "@constraint(model, 2x + 3y <= 25)\n",
    "@constraint(model, 3x + 2y <= 37)\n",
    "\n",
    "# Impressão do modelo:\n",
    "println(model)"
   ]
  },
  {
   "cell_type": "markdown",
   "metadata": {},
   "source": [
    "Method <i>solve</i> is used for starting the solution procedure. The method returns the status of the achieved solution, hence, the source code veryfies if we could found an optimal solution and print it. Otherwise, the code prints a solution with some information."
   ]
  },
  {
   "cell_type": "code",
   "execution_count": 21,
   "metadata": {},
   "outputs": [
    {
     "name": "stdout",
     "output_type": "stream",
     "text": [
      "Solução ótima encontrada!\n",
      "x = 0.4999999999999982, y = 8.0\n",
      "Valor da função objetivo é 16.5\n"
     ]
    }
   ],
   "source": [
    "status = solve(model)\n",
    "\n",
    "if status == :Optimal\n",
    "    println(\"Optimal solution found!\")\n",
    "    println(\"x = $(getvalue(x)), y = $(getvalue(y))\")\n",
    "    println(\"Solution value $(getobjectivevalue(model))\")\n",
    "else\n",
    "    println(\"Optimal solution not found!\")\n",
    "end"
   ]
  },
  {
   "cell_type": "markdown",
   "metadata": {},
   "source": [
    "Note that the example is simple and is not representative of problems of academic and practical insterest of Operational Researchers. Next section presents a partial implementation of the Traveling Salesman problem, which is finished in the following section. In this implementation, we present syntax and function from JuMP which allow for the modelling of problems whose size is comparable to the ones associated with state-of-the-art branch-and-cut computational packages."
   ]
  },
  {
   "cell_type": "markdown",
   "metadata": {},
   "source": [
    "## The Traveling Salesman Problem\n",
    "\n",
    "It is not our scope here to discuss the importance, solution methods or different modeling approaches for the Traveling Salesman Problem. For this, the refer to <i>The traveling salesman problem: a computational study (D. L. Applegate, R. E. Bixby, V. Chvatal, and W. J. Cook, 2011)</i>. We present a model for the problem as an example for exploring JuMP.\n",
    "\n",
    "Let $V$ be a set of points to be visited por a traveler and $c_{ij}$ the cost of moving from $i$ to $j$, with $i$, $j \\in V$, $i \\neq j$. The Traveling Salesman Problem consists of find a route with the minimum cost which visits exactly once every point. Let $x_{ij}$ be binary variables indicating whether the traveler use path $(i, j)$, $i, j \\in V$, $i \\neq j$ as part of the route. Thereby, we have the following model:\n",
    "\n",
    "$$\n",
    "\\mbox{Min } \\sum_{i \\in V}\\sum_{j \\in V, i \\neq j} c_{ij}x_{ij},\\\\\n",
    "\\hspace{-4cm}\\mbox{subject to:}\\\\\n",
    "\\sum_{i \\in V, i \\neq j} x_{ij} = 1, \\quad j \\in V, \\\\\n",
    "\\sum_{j \\in V, i \\neq j} x_{ij} = 1, \\quad i \\in V, \\\\\n",
    "\\sum_{(i, j) \\in S} x_{ij} \\leq |S|-1, \\quad S \\subset V,\\\\\n",
    "x_{ij} \\in \\{0, 1\\}, \\quad i, j \\in V, i \\neq j,\n",
    "$$\n",
    "\n",
    "The objective function minimizes the cost of the route, while the constraints ensure the traveler reaches, leaves and that the route does not have subcycles, respectively.\n",
    "\n",
    "Before implementing the model using JuMP and Julia, consider the toy problem defined be the following code. The problem is defined by the cartesian coordinated of each point to be visited, so the code computes the values $c_{ij}$, $i, j \\in V, i \\neq j$, using euclidian distance between $i$ and $j$."
   ]
  },
  {
   "cell_type": "code",
   "execution_count": 22,
   "metadata": {},
   "outputs": [
    {
     "data": {
      "text/plain": [
       "13×13 Array{Float64,2}:\n",
       " 0.0  0.0  0.0  0.0  0.0  0.0  0.0  0.0  0.0  0.0  0.0  0.0  0.0\n",
       " 0.0  0.0  0.0  0.0  0.0  0.0  0.0  0.0  0.0  0.0  0.0  0.0  0.0\n",
       " 0.0  0.0  0.0  0.0  0.0  0.0  0.0  0.0  0.0  0.0  0.0  0.0  0.0\n",
       " 0.0  0.0  0.0  0.0  0.0  0.0  0.0  0.0  0.0  0.0  0.0  0.0  0.0\n",
       " 0.0  0.0  0.0  0.0  0.0  0.0  0.0  0.0  0.0  0.0  0.0  0.0  0.0\n",
       " 0.0  0.0  0.0  0.0  0.0  0.0  0.0  0.0  0.0  0.0  0.0  0.0  0.0\n",
       " 0.0  0.0  0.0  0.0  0.0  0.0  0.0  0.0  0.0  0.0  0.0  0.0  0.0\n",
       " 0.0  0.0  0.0  0.0  0.0  0.0  0.0  0.0  0.0  0.0  0.0  0.0  0.0\n",
       " 0.0  0.0  0.0  0.0  0.0  0.0  0.0  0.0  0.0  0.0  0.0  0.0  0.0\n",
       " 0.0  0.0  0.0  0.0  0.0  0.0  0.0  0.0  0.0  0.0  0.0  0.0  0.0\n",
       " 0.0  0.0  0.0  0.0  0.0  0.0  0.0  0.0  0.0  0.0  0.0  0.0  0.0\n",
       " 0.0  0.0  0.0  0.0  0.0  0.0  0.0  0.0  0.0  0.0  0.0  0.0  0.0\n",
       " 0.0  0.0  0.0  0.0  0.0  0.0  0.0  0.0  0.0  0.0  0.0  0.0  0.0"
      ]
     },
     "execution_count": 22,
     "metadata": {},
     "output_type": "execute_result"
    }
   ],
   "source": [
    "# Posições de cada ponto a ser visitado:\n",
    "citiesDict = Dict{Int, Any}()\n",
    "citiesDict[1] = (523, 418)\n",
    "citiesDict[2] = (527, 566)\n",
    "citiesDict[3] = (435, 603)\n",
    "citiesDict[4] = (386, 660)\n",
    "citiesDict[5] = (346, 692)\n",
    "citiesDict[6] = (431, 730)\n",
    "citiesDict[7] = (419, 818)\n",
    "citiesDict[8] = (347, 520)\n",
    "citiesDict[9] = (332, 330)\n",
    "citiesDict[10] = (165, 374)\n",
    "citiesDict[11] = (196, 198)\n",
    "citiesDict[12] = (187, 108)\n",
    "citiesDict[13] = (210, 63)\n",
    "\n",
    "nCities = length(citiesDict)\n",
    "# Matriz para amazenar as distâncias entre os pontos:\n",
    "c = zeros(nCities, nCities)\n",
    "\n",
    "# Definição da posição de cada vértice para desenho:\n",
    "posX, posY = [], []\n",
    "\n",
    "for i in sort(collect(keys(citiesDict)))\n",
    "    posI = citiesDict[i]\n",
    "    for j in sort(collect(keys(citiesDict)))\n",
    "        posJ = citiesDict[j]\n",
    "        c[i, j] = ((posI[1] - posJ[1])^2 + (posI[2] - posJ[2])^2)^0.5\n",
    "    end \n",
    "    append!(posX, posI[1])\n",
    "    append!(posY, posI[2])\n",
    "end"
   ]
  },
  {
   "cell_type": "markdown",
   "metadata": {},
   "source": [
    "We can use Julia to build a visualization of the example. The following code depends the packages for building graphs. The installation of these packages is not covered in this tutorial. However, the execution of this code block is not mandatory for executing the remainig blocks."
   ]
  },
  {
   "cell_type": "code",
   "execution_count": 23,
   "metadata": {},
   "outputs": [
    {
     "data": {
      "text/html": [
       "<img src=\"data:image/png;base64,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\" />"
      ]
     },
     "execution_count": 23,
     "metadata": {},
     "output_type": "execute_result"
    }
   ],
   "source": [
    "using PlotRecipes  # Pacote com a função para plotar grafos\n",
    "# Pkg.add(\"PyPlot\")  # Instalação do pacote para plotagem.\n",
    "\n",
    "# Backend utilizado para plotagem:\n",
    "pyplot()  # Melhor visualização, mas possui mais dependências.\n",
    "# plotly()  # Mais simples.\n",
    "\n",
    "# Configuração do desenho\n",
    "graphplot(1:nCities, 1:nCities, names=1:nCities,\n",
    "    x=posX, y=posY, fontsize=10,\n",
    "    m=:white, l=:black)"
   ]
  },
  {
   "cell_type": "markdown",
   "metadata": {},
   "source": [
    "O primeiro passo para implementação do modelo é a inclusão dos pacotes computacionais que serão utilizados. Para esse exemplo, foi utilizado o pacote JuMP e o Gurobi. Em seguida, define-se o objeto modelo, no qual podem-se definir parâmetros para solução: foram limitados tempo de solução, número de processadores, desabilitadas as heurísticas do Gurobi -- é implementada uma heurística na Seção 4.3 -- e suprimida a impressão de informações sobre o processo de solução. Com o modelo, definem-se as variáveis, a função objetivo e as restrições do problema, respectivamente. Note o uso da sintaxe para a definição de variáveis matriciais e a função <i>sum</i> como atalho para a definição de somatórios."
   ]
  },
  {
   "cell_type": "code",
   "execution_count": 24,
   "metadata": {
    "collapsed": true
   },
   "outputs": [],
   "source": [
    "using JuMP\n",
    "using Gurobi\n",
    "# using CPLEX\n",
    "\n",
    "# Definição do modelo e parâmetros para a solução: \n",
    "model = Model(solver=GurobiSolver(TimeLimit=20, Threads=1, \n",
    "        Heuristics=0.0, OutputFlag=0))\n",
    "\n",
    "# Para o CPLEX pode-se usar:\n",
    "# model = Model(solver=CplexSolver(CPX_PARAM_TILIM=20, \n",
    "#         CPX_PARAM_THREADS=1, CPX_PARAM_HEURFREQ=0,\n",
    "#         CPX_PARAM_SCRIND=0))\n",
    "\n",
    "# Definição da variável matricial xij.\n",
    "# Note que a variável nCities foi definida anteriormente.\n",
    "@variable(model, x[i=1:nCities, j=1:nCities; i != j], Bin)\n",
    "\n",
    "# Função objetivo:\n",
    "@objective(model, Min, sum(c[i, j] * x[i, j]\n",
    "        for i in 1:nCities, j in 1:nCities if i != j))\n",
    "\n",
    "# Restrições para garantir a saída de todo vértice:\n",
    "for i in 1:nCities\n",
    "    @constraint(model, sum(x[i, j] for j in 1:nCities if i != j) == 1)\n",
    "end \n",
    "\n",
    "# Restrições para garantir a chegada em cada vértice:\n",
    "for j in 1:nCities\n",
    "    @constraint(model, sum(x[i, j] for i in 1:nCities if i != j) == 1)\n",
    "end"
   ]
  },
  {
   "cell_type": "markdown",
   "metadata": {},
   "source": [
    "A solução é obtida pela chamada do método <i>solve</i> e pode-se utilizar Julia para visualizar a solução."
   ]
  },
  {
   "cell_type": "code",
   "execution_count": 25,
   "metadata": {},
   "outputs": [
    {
     "name": "stdout",
     "output_type": "stream",
     "text": [
      "Academic license - for non-commercial use only\r\n"
     ]
    }
   ],
   "source": [
    "status = solve(model)\n",
    "\n",
    "if status == :Optimal\n",
    "    edgeOrigin = []\n",
    "    edgeDest = []\n",
    "\n",
    "    for i in keys(citiesDict)\n",
    "        for j in keys(citiesDict)\n",
    "            if i != j && getvalue(x[i, j]) > 0.99\n",
    "                append!(edgeOrigin, i)\n",
    "                append!(edgeDest, j)\n",
    "            end\n",
    "        end\n",
    "    end\n",
    "else\n",
    "    println(\"Solução ótima não encontrada!\")\n",
    "end"
   ]
  },
  {
   "cell_type": "code",
   "execution_count": 26,
   "metadata": {},
   "outputs": [
    {
     "data": {
      "text/html": [
       "<img src=\"data:image/png;base64,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\" />"
      ]
     },
     "metadata": {},
     "output_type": "display_data"
    }
   ],
   "source": [
    "# Visualizando a solução: \n",
    "display(\n",
    "        graphplot(\n",
    "            edgeOrigin, edgeDest, names=1:nCities, \n",
    "            x=posX, y=posY, fontsize=10,\n",
    "            m=:white, l=:black\n",
    "        )\n",
    "    )"
   ]
  },
  {
   "cell_type": "markdown",
   "metadata": {},
   "source": [
    "Devido a ausência das restrições de eliminação de subciclo, a solução não corresponde a uma rota desejada. Uma desvantagem das restrições de eliminação de subciclos apresentadas é o seu número exponencial em relação ao número de pontos a serem visitados. Por isso, enumerar todas essas restrições <i>a priori</i> é factível apenas para exemplos com poucos pontos e uma abordagem mais eficiente é adicionar restrições apenas quando são necessárias. Na sequência, é utilizada a <i>callback</i> de <i>lazy constraints</i> da JuMP para inclusão das restrições de eliminação de subciclo de forma eficiente. \n",
    "\n",
    "# <i>Callbacks</i>\n",
    "\n",
    "<i>Callbacks</i> são funções que permitem ao usuário personalizar o procedimento do resolvedor. Em geral, são utilizadas para explorar características específicas dos problemas ou obter informações detalhadas sobre andamento do processo de solução. No momento da escrita deste artigo, JuMP dispunha de três <i>callbacks</i> para customização, que são apresentadas nas Subseçõs 4.1-4.3, além de <i>callbacks</i> informativas -- que possuem o uso relativamente simples. Informações detalhadas sobre essa funcionalidade podem ser encontradas na documentação oficial da JuMP (http://www.juliaopt.org/JuMP.jl/0.17/). Ainda, destaca-se que o comportamento específico de cada uma das <i>callbacks</i> pode depender do resolvedor utilizado e recomenda-se consultar seu respectivo manual. Inclusive, a número de resolvedores que suportam seu uso é limitado (Gurobi, CPLEX, GLPK e SCIP eram os suportados no momento da escrita deste artigo).\n",
    "\n",
    "## <i>Lazy constraints</i>\n",
    "\n",
    "Uma das utilidades da <i>callback lazy constraints</i> é em casos em que o conjunto completo de restrições é muito numeroso para ser explicitado. Para utilizar essa <i>callback</i>, é necessário implementar uma função que é chamada sempre que o resolvedor encontrar uma solução inteira, permitindo, então, a adição de restrições ao modelo. Como exemplo, segue uma implementação de função que identifica o menor subciclo presente na solução do caixeiro viajante apresentada anteriormente e, caso ele exista, adiciona uma restrição que o elimina. Note que é possível utilizar outros pacotes de Julia dentro de uma <i>callback</i>, como foi feito no exemplo com o pacote <i>Graphs</i>, permitindo uma manipulação simples do grafo da solução.\n"
   ]
  },
  {
   "cell_type": "code",
   "execution_count": 27,
   "metadata": {},
   "outputs": [
    {
     "name": "stderr",
     "output_type": "stream",
     "text": [
      "\u001b[1m\u001b[36mINFO: \u001b[39m\u001b[22m\u001b[36mPrecompiling module Graphs.\n",
      "\u001b[39mWARNING: Method definition \n",
      "WARNING: deprecated syntax \"inner constructor VertexListVisitor(...) around C:\\Users\\pbelin\\AppData\\Local\\JuliaPro-0.6.0.1\\pkgs-0.6.0.1\\v0.6\\Graphs\\src\\graph_visit.jl:44\".\n",
      "Use \"VertexListVisitor{V}(...) where V\" instead.\n",
      "\n",
      "WARNING: deprecated syntax \"inner constructor TopologicalSortVisitor(...) around C:\\Users\\pbelin\\AppData\\Local\\JuliaPro-0.6.0.1\\pkgs-0.6.0.1\\v0.6\\Graphs\\src\\depth_first_visit.jl:131\".\n",
      "Use \"TopologicalSortVisitor{V}(...) where V\" instead.\n",
      "(::Type{Graphs.KeyVertex{K} where K})(Int64, K) in module Graphs at C:\\Users\\pbelin\\AppData\\Local\\JuliaPro-0.6.0.1\\pkgs-0.6.0.1\\v0.6\\Graphs\\src\\common.jl:13 overwritten at C:\\Users\\pbelin\\AppData\\Local\\JuliaPro-0.6.0.1\\pkgs-0.6.0.1\\v0.6\\Graphs\\src\\common.jl:17.\n",
      "WARNING: Compat.UTF8String is deprecated, use String instead.\n",
      "  likely near C:\\Users\\pbelin\\AppData\\Local\\JuliaPro-0.6.0.1\\pkgs-0.6.0.1\\v0.6\\Graphs\\src\\common.jl:21\n",
      "WARNING: Method definition (::Type{Graphs.Edge{V} where V})(Int64, V, V) in module Graphs at C:\\Users\\pbelin\\AppData\\Local\\JuliaPro-0.6.0.1\\pkgs-0.6.0.1\\v0.6\\Graphs\\src\\common.jl:55 overwritten at C:\\Users\\pbelin\\AppData\\Local\\JuliaPro-0.6.0.1\\pkgs-0.6.0.1\\v0.6\\Graphs\\src\\common.jl:61.\n",
      "WARNING: Method definition (::Type{Graphs.ExEdge{V} where V})(Int64, V, V, Base.Dict{String, Any}) in module Graphs at C:\\Users\\pbelin\\AppData\\Local\\JuliaPro-0.6.0.1\\pkgs-0.6.0.1\\v0.6\\Graphs\\src\\common.jl:73 overwritten at C:\\Users\\pbelin\\AppData\\Local\\JuliaPro-0.6.0.1\\pkgs-0.6.0.1\\v0.6\\Graphs\\src\\common.jl:84.\n",
      "WARNING: Method definition (::Type{Graphs.TargetIterator{G, EList} where EList where G<:(Graphs.AbstractGraph{V, E} where E where V)})(G<:(Graphs.AbstractGraph{V, E} where E where V), EList) in module Graphs at C:\\Users\\pbelin\\AppData\\Local\\JuliaPro-0.6.0.1\\pkgs-0.6.0.1\\v0.6\\Graphs\\src\\common.jl:124 overwritten at C:\\Users\\pbelin\\AppData\\Local\\JuliaPro-0.6.0.1\\pkgs-0.6.0.1\\v0.6\\Graphs\\src\\common.jl:128.\n",
      "WARNING: Method definition (::Type{Graphs.SourceIterator{G, EList} where EList where G<:(Graphs.AbstractGraph{V, E} where E where V)})(G<:(Graphs.AbstractGraph{V, E} where E where V), EList) in module Graphs at C:\\Users\\pbelin\\AppData\\Local\\JuliaPro-0.6.0.1\\pkgs-0.6.0.1\\v0.6\\Graphs\\src\\common.jl:142 overwritten at C:\\Users\\pbelin\\AppData\\Local\\JuliaPro-0.6.0.1\\pkgs-0.6.0.1\\v0.6\\Graphs\\src\\common.jl:146.\n",
      "WARNING: Method definition edge_property_requirement(Graphs.AbstractEdgePropertyInspector{T}, Graphs.AbstractGraph{V, E} where E) in module Graphs at C:\\Users\\pbelin\\AppData\\Local\\JuliaPro-0.6.0.1\\pkgs-0.6.0.1\\v0.6\\Graphs\\src\\common.jl:165 overwritten at C:\\Users\\pbelin\\AppData\\Local\\JuliaPro-0.6.0.1\\pkgs-0.6.0.1\\v0.6\\Graphs\\src\\common.jl:180.\n",
      "WARNING: Compat.UTF8String is deprecated, use String instead.\n",
      "  likely near C:\\Users\\pbelin\\AppData\\Local\\JuliaPro-0.6.0.1\\pkgs-0.6.0.1\\v0.6\\Graphs\\src\\common.jl:182\n",
      "WARNING: Method definition vertex_index(V<:Union{Graphs.KeyVertex{K} where K, Graphs.ExVertex}, Graphs.GenericGraph{V<:Union{Graphs.KeyVertex{K} where K, Graphs.ExVertex}, E, VList, EList, IncList} where IncList where EList where VList where E) in module Graphs at C:\\Users\\pbelin\\AppData\\Local\\JuliaPro-0.6.0.1\\pkgs-0.6.0.1\\v0.6\\Graphs\\src\\graph.jl:65 overwritten at C:\\Users\\pbelin\\AppData\\Local\\JuliaPro-0.6.0.1\\pkgs-0.6.0.1\\v0.6\\Graphs\\src\\graph.jl:67.\n",
      "WARNING: Method definition (::Type{Graphs.GDistanceVisitor{G, DMap} where DMap where G<:(Graphs.AbstractGraph{V, E} where E where V)})(G<:(Graphs.AbstractGraph{V, E} where E where V), DMap) in module Graphs at C:\\Users\\pbelin\\AppData\\Local\\JuliaPro-0.6.0.1\\pkgs-0.6.0.1\\v0.6\\Graphs\\src\\breadth_first_visit.jl:107 overwritten at C:\\Users\\pbelin\\AppData\\Local\\JuliaPro-0.6.0.1\\pkgs-0.6.0.1\\v0.6\\Graphs\\src\\breadth_first_visit.jl:111.\n",
      "WARNING: Method definition (::"
     ]
    },
    {
     "data": {
      "text/plain": [
       "lazyConstraintsCallback (generic function with 1 method)"
      ]
     },
     "execution_count": 27,
     "metadata": {},
     "output_type": "execute_result"
    },
    {
     "name": "stderr",
     "output_type": "stream",
     "text": [
      "Type{Graphs.KeyVertex{K} where K})(Int64, K) in module Graphs at C:\\Users\\pbelin\\AppData\\Local\\JuliaPro-0.6.0.1\\pkgs-0.6.0.1\\v0.6\\Graphs\\src\\common.jl:13 overwritten at C:\\Users\\pbelin\\AppData\\Local\\JuliaPro-0.6.0.1\\pkgs-0.6.0.1\\v0.6\\Graphs\\src\\common.jl:17.\n",
      "WARNING: Method definition (::Type{Graphs.Edge{V} where V})(Int64, V, V) in module Graphs at C:\\Users\\pbelin\\AppData\\Local\\JuliaPro-0.6.0.1\\pkgs-0.6.0.1\\v0.6\\Graphs\\src\\common.jl:55 overwritten at C:\\Users\\pbelin\\AppData\\Local\\JuliaPro-0.6.0.1\\pkgs-0.6.0.1\\v0.6\\Graphs\\src\\common.jl:61.\n",
      "WARNING: Method definition (::Type{Graphs.ExEdge{V} where V})(Int64, V, V, Base.Dict{String, Any}) in module Graphs at C:\\Users\\pbelin\\AppData\\Local\\JuliaPro-0.6.0.1\\pkgs-0.6.0.1\\v0.6\\Graphs\\src\\common.jl:73 overwritten at C:\\Users\\pbelin\\AppData\\Local\\JuliaPro-0.6.0.1\\pkgs-0.6.0.1\\v0.6\\Graphs\\src\\common.jl:84.\n",
      "WARNING: Method definition (::Type{Graphs.TargetIterator{G, EList} where EList where G<:(Graphs.AbstractGraph{V, E} where E where V)})(G<:(Graphs.AbstractGraph{V, E} where E where V), EList) in module Graphs at C:\\Users\\pbelin\\AppData\\Local\\JuliaPro-0.6.0.1\\pkgs-0.6.0.1\\v0.6\\Graphs\\src\\common.jl:124 overwritten at C:\\Users\\pbelin\\AppData\\Local\\JuliaPro-0.6.0.1\\pkgs-0.6.0.1\\v0.6\\Graphs\\src\\common.jl:128.\n",
      "WARNING: Method definition (::Type{Graphs.SourceIterator{G, EList} where EList where G<:(Graphs.AbstractGraph{V, E} where E where V)})(G<:(Graphs.AbstractGraph{V, E} where E where V), EList) in module Graphs at C:\\Users\\pbelin\\AppData\\Local\\JuliaPro-0.6.0.1\\pkgs-0.6.0.1\\v0.6\\Graphs\\src\\common.jl:142 overwritten at C:\\Users\\pbelin\\AppData\\Local\\JuliaPro-0.6.0.1\\pkgs-0.6.0.1\\v0.6\\Graphs\\src\\common.jl:146.\n",
      "WARNING: Method definition (::Type{Graphs.GDistanceVisitor{G, DMap} where DMap where G<:(Graphs.AbstractGraph{V, E} where E where V)})(G<:(Graphs.AbstractGraph{V, E} where E where V), DMap) in module Graphs at C:\\Users\\pbelin\\AppData\\Local\\JuliaPro-0.6.0.1\\pkgs-0.6.0.1\\v0.6\\Graphs\\src\\breadth_first_visit.jl:107 overwritten at C:\\Users\\pbelin\\AppData\\Local\\JuliaPro-0.6.0.1\\pkgs-0.6.0.1\\v0.6\\Graphs\\src\\breadth_first_visit.jl:111.\n"
     ]
    }
   ],
   "source": [
    "using Graphs\n",
    "\n",
    "function lazyConstraintsCallback(cb)\n",
    "\n",
    "    # Criando um grafo:\n",
    "    g = simple_graph(nCities, is_directed=false)\n",
    "\n",
    "    for i in 1:nCities, j in 1:nCities\n",
    "        if i != j\n",
    "            if getvalue(x[i, j]) > 0.01\n",
    "                add_edge!(g, i, j)  # Adicionando as arestas.\n",
    "            end\n",
    "        end\n",
    "    end\n",
    "\n",
    "    # Encontrando os componentes conexos do grafo:\n",
    "    cc = connected_components(g)\n",
    "\n",
    "    if length(cc) > 1\n",
    "        # Caso só haja uma componente conexa\n",
    "        # não há subciclo e não se adiciona \n",
    "        # nenhuma restrição.\n",
    "        \n",
    "        minTour = sort(cc, by=length)[1]\n",
    "        subtourLhs = AffExpr()\n",
    "        \n",
    "        # Encontrando as arestas que fazem parte do subciclo\n",
    "        for i in minTour\n",
    "            for j in minTour\n",
    "                if i != j && getvalue(x[i, j]) > 0.01\n",
    "                    subtourLhs += x[i, j]\n",
    "                end \n",
    "            end\n",
    "        end\n",
    "        \n",
    "        # Adicionando a restrição:\n",
    "        @lazyconstraint(cb, subtourLhs <= length(minTour) - 1)\n",
    "    end\n",
    "end # End function"
   ]
  },
  {
   "cell_type": "markdown",
   "metadata": {},
   "source": [
    "Com a função de inclução de restrições de eliminação de subciclo, o único passo necessário, além da implementação do modelo, é informar que o resolvedor deve considerar função correta para <i>callback</i>. Isso deve ser feito antes da chamada do método <i>solve</i>. Como feito a seguir:"
   ]
  },
  {
   "cell_type": "code",
   "execution_count": 28,
   "metadata": {},
   "outputs": [
    {
     "name": "stdout",
     "output_type": "stream",
     "text": [
      "Academic license - for non-commercial use only\r\n"
     ]
    },
    {
     "name": "stderr",
     "output_type": "stream",
     "text": [
      "\u001b[1m\u001b[33mWARNING: \u001b[39m\u001b[22m\u001b[33mArray{T}(::Type{T}, m::Int) is deprecated, use Array{T}(m) instead.\u001b[39m\n",
      "Stacktrace:\n",
      " [1] \u001b[1mdepwarn\u001b[22m\u001b[22m\u001b[1m(\u001b[22m\u001b[22m::String, ::Symbol\u001b[1m)\u001b[22m\u001b[22m at \u001b[1m.\\deprecated.jl:70\u001b[22m\u001b[22m\n",
      " [2] \u001b[1mArray\u001b[22m\u001b[22m\u001b[1m(\u001b[22m\u001b[22m::Type{Array{Int64,1}}, ::Int64\u001b[1m)\u001b[22m\u001b[22m at \u001b[1m.\\deprecated.jl:57\u001b[22m\u001b[22m\n",
      " [3] \u001b[1mconnected_components\u001b[22m\u001b[22m\u001b[1m(\u001b[22m\u001b[22m::Graphs.GenericGraph{Int64,Graphs.Edge{Int64},UnitRange{Int64},Array{Graphs.Edge{Int64},1},Array{Array{Graphs.Edge{Int64},1},1}}\u001b[1m)\u001b[22m\u001b[22m at \u001b[1mC:\\Users\\pbelin\\AppData\\Local\\JuliaPro-0.6.0.1\\pkgs-0.6.0.1\\v0.6\\Graphs\\src\\connected_components.jl:15\u001b[22m\u001b[22m\n",
      " [4] \u001b[1mlazyConstraintsCallback\u001b[22m\u001b[22m\u001b[1m(\u001b[22m\u001b[22m::Gurobi.GurobiCallbackData\u001b[1m)\u001b[22m\u001b[22m at \u001b[1m.\\In[27]:17\u001b[22m\u001b[22m\n",
      " [5] \u001b[1mlazycallback\u001b[22m\u001b[22m\u001b[1m(\u001b[22m\u001b[22m::Gurobi.GurobiCallbackData, ::JuMP.Model, ::Array{JuMP.LazyCallback,1}\u001b[1m)\u001b[22m\u001b[22m at \u001b[1mC:\\\\\\\\\\\\\\\\\\\\\\\\\\\\\\\\\\\\\\\\\\\\\\\\\\\\\\\\\\\\\\\\\\\\\\\\\\\\\\\\\\\\\\\\\\\\\\\\\\\\\\\\\\\\Users\\pbelin\\AppData\\Local\\JuliaPro-0.6.0.1\\pkgs-0.6.0.1\\v0.6\\JuMP\\src\\callbacks.jl:78\u001b[22m\u001b[22m\n",
      " [6] \u001b[1m(::JuMP.##140#141{JuMP.Model,Array{JuMP.LazyCallback,1}})\u001b[22m\u001b[22m\u001b[1m(\u001b[22m\u001b[22m::Gurobi.GurobiCallbackData\u001b[1m)\u001b[22m\u001b[22m at \u001b[1mC:\\\\\\\\\\\\\\\\\\\\\\\\\\\\\\\\\\\\\\\\\\\\\\\\\\\\\\\\\\\\\\\\\\\\\\\\\\\\\\\\\\\\\\\\\\\\\\\\\\\\\\\\\\\\Users\\pbelin\\AppData\\Local\\JuliaPro-0.6.0.1\\pkgs-0.6.0.1\\v0.6\\JuMP\\src\\callbacks.jl:96\u001b[22m\u001b[22m\n",
      " [7] \u001b[1mmastercallback\u001b[22m\u001b[22m\u001b[1m(\u001b[22m\u001b[22m::Ptr{Void}, ::Ptr{Void}, ::Int32, ::Ptr{Void}\u001b[1m)\u001b[22m\u001b[22m at \u001b[1mC:\\Users\\pbelin\\AppData\\Local\\JuliaPro-0.6.0.1\\pkgs-0.6.0.1\\v0.6\\Gurobi\\src\\GurobiSolverInterface.jl:634\u001b[22m\u001b[22m\n",
      " [8] \u001b[1moptimize\u001b[22m\u001b[22m\u001b[1m(\u001b[22m\u001b[22m::Gurobi.Model\u001b[1m)\u001b[22m\u001b[22m at \u001b[1mC:\\Users\\pbelin\\AppData\\Local\\JuliaPro-0.6.0.1\\pkgs-0.6.0.1\\v0.6\\Gurobi\\src\\grb_solve.jl:5\u001b[22m\u001b[22m\n",
      " [9] \u001b[1moptimize!\u001b[22m\u001b[22m\u001b[1m(\u001b[22m\u001b[22m::Gurobi.GurobiMathProgModel\u001b[1m)\u001b[22m\u001b[22m at \u001b[1mC:\\Users\\pbelin\\AppData\\Local\\JuliaPro-0.6.0.1\\pkgs-0.6.0.1\\v0.6\\Gurobi\\src\\GurobiSolverInterface.jl:358\u001b[22m\u001b[22m\n",
      " [10] \u001b[1m#solve#116\u001b[22m\u001b[22m\u001b[1m(\u001b[22m\u001b[22m::Bool, ::Bool, ::Bool, ::Array{Any,1}, ::Function, ::JuMP.Model\u001b[1m)\u001b[22m\u001b[22m at \u001b[1mC:\\\\\\\\\\\\\\\\\\\\\\\\\\\\\\\\\\\\\\\\\\\\\\\\\\\\\\\\\\\\\\\\\\\\\\\\\\\\\\\\\\\\\\\\\\\\\\\\\\\\\\\\\\\\Users\\pbelin\\AppData\\Local\\JuliaPro-0.6.0.1\\pkgs-0.6.0.1\\v0.6\\JuMP\\src\\solvers.jl:175\u001b[22m\u001b[22m\n",
      " [11] \u001b[1msolve\u001b[22m\u001b[22m\u001b[1m(\u001b[22m\u001b[22m::JuMP.Model\u001b[1m)\u001b[22m\u001b[22m at \u001b[1mC:\\\\\\\\\\\\\\\\\\\\\\\\\\\\\\\\\\\\\\\\\\\\\\\\\\\\\\\\\\\\\\\\\\\\\\\\\\\\\\\\\\\\\\\\\\\\\\\\\\\\\\\\\\\\Users\\pbelin\\AppData\\Local\\JuliaPro-0.6.0.1\\pkgs-0.6.0.1\\v0.6\\JuMP\\src\\solvers.jl:150\u001b[22m\u001b[22m\n",
      " [12] \u001b[1minclude_string\u001b[22m\u001b[22m\u001b[1m(\u001b[22m\u001b[22m::String, ::String\u001b[1m)\u001b[22m\u001b[22m at \u001b[1m.\\loading.jl:515\u001b[22m\u001b[22m\n",
      " [13] \u001b[1mexecute_request\u001b[22m\u001b[22m\u001b[1m(\u001b[22m\u001b[22m::ZMQ.Socket, ::IJulia.Msg\u001b[1m)\u001b[22m\u001b[22m at \u001b[1mC:\\Users\\pbelin\\AppData\\Local\\JuliaPro-0.6.0.1\\pkgs-0.6.0.1\\v0.6\\IJulia\\src\\execute_request.jl:160\u001b[22m\u001b[22m\n",
      " [14] \u001b[1meventloop\u001b[22m\u001b[22m\u001b[1m(\u001b[22m\u001b[22m::ZMQ.Socket\u001b[1m)\u001b[22m\u001b[22m at \u001b[1mC:\\Users\\pbelin\\AppData\\Local\\JuliaPro-0.6.0.1\\pkgs-0.6.0.1\\v0.6\\IJulia\\src\\eventloop.jl:8\u001b[22m\u001b[22m\n",
      " [15] \u001b[1m(::IJulia.##11#14)\u001b[22m\u001b[22m\u001b[1m(\u001b[22m\u001b[22m\u001b[1m)\u001b[22m\u001b[22m at \u001b[1m.\\task.jl:335\u001b[22m\u001b[22m\n",
      "while loading In[28], in expression starting on line 5\n",
      "\u001b[1m\u001b[33mWARNING: \u001b[39m\u001b[22m\u001b[33mArray{T}(::Type{T}, m::Int) is deprecated, use Array{T}(m) instead.\u001b[39m\n",
      "Stacktrace:\n",
      " [1] \u001b[1mdepwarn\u001b[22m\u001b[22m\u001b[1m(\u001b[22m\u001b[22m::String, ::Symbol\u001b[1m)\u001b[22m\u001b[22m at \u001b[1m.\\deprecated.jl:70\u001b[22m\u001b[22m\n",
      " [2] \u001b[1mArray\u001b[22m\u001b[22m\u001b[1m(\u001b[22m\u001b[22m::Type{Int64}, ::Int64\u001b[1m)\u001b[22m\u001b[22m at \u001b[1m.\\deprecated.jl:57\u001b[22m\u001b[22m\n",
      " [3] \u001b[1mType\u001b[22m\u001b[22m at \u001b[1mC:\\Users\\pbelin\\AppData\\Local\\JuliaPro-0.6.0.1\\pkgs-0.6.0.1\\v0.6\\Graphs\\src\\graph_visit.jl:44\u001b[22m\u001b[22m [inlined]\n",
      " [4] \u001b[1mconnected_components\u001b[22m\u001b[22m\u001b[1m(\u001b[22m\u001b[22m::Graphs.GenericGraph{Int64,Graphs.Edge{Int64},UnitRange{Int64},Array{Graphs.Edge{Int64},1},Array{Array{Graphs.Edge{Int64},1},1}}\u001b[1m)\u001b[22m\u001b[22m at \u001b[1mC:\\Users\\pbelin\\AppData\\Local\\JuliaPro-0.6.0.1\\pkgs-0.6.0.1\\v0.6\\Graphs\\src\\connected_components.jl:19\u001b[22m\u001b[22m\n",
      " [5] \u001b[1mlazyConstraintsCallback\u001b[22m\u001b[22m\u001b[1m(\u001b[22m\u001b[22m::Gurobi.GurobiCallbackData\u001b[1m)\u001b[22m\u001b[22m at \u001b[1m.\\In[27]:17\u001b[22m\u001b[22m\n",
      " [6] \u001b[1mlazycallback\u001b[22m\u001b[22m\u001b[1m(\u001b[22m\u001b[22m::Gurobi.GurobiCallbackData, ::JuMP.Model, ::Array{JuMP.LazyCallback,1}\u001b[1m)\u001b[22m\u001b[22m at \u001b[1mC:\\\\\\\\\\\\\\\\\\\\\\\\\\\\\\\\\\\\\\\\\\\\\\\\\\\\\\\\\\\\\\\\\\\\\\\\\\\\\\\\\\\\\\\\\\\\\\\\\\\\\\\\\\\\Users\\pbelin\\AppData\\Local\\JuliaPro-0.6.0.1\\pkgs-0.6.0.1\\v0.6\\JuMP\\src\\callbacks.jl:78\u001b[22m\u001b[22m\n",
      " [7] \u001b[1m(::JuMP.##140#141{JuMP.Model,Array{JuMP.LazyCallback,1}})\u001b[22m\u001b[22m\u001b[1m(\u001b[22m\u001b[22m::Gurobi.GurobiCallbackData\u001b[1m)\u001b[22m\u001b[22m at \u001b[1mC:\\\\\\\\\\\\\\\\\\\\\\\\\\\\\\\\\\\\\\\\\\\\\\\\\\\\\\\\\\\\\\\\\\\\\\\\\\\\\\\\\\\\\\\\\\\\\\\\\\\\\\\\\\\\Users\\pbelin\\AppData\\Local\\JuliaPro-0.6.0.1\\pkgs-0.6.0.1\\v0.6\\JuMP\\src\\callbacks.jl:96\u001b[22m\u001b[22m\n",
      " [8] \u001b[1mmastercallback\u001b[22m\u001b[22m\u001b[1m(\u001b[22m\u001b[22m::Ptr{Void}, ::Ptr{Void}, ::Int32, ::Ptr{Void}\u001b[1m)\u001b[22m\u001b[22m at \u001b[1mC:\\Users\\pbelin\\AppData\\Local\\JuliaPro-0.6.0.1\\pkgs-0.6.0.1\\v0.6\\Gurobi\\src\\GurobiSolverInterface.jl:634\u001b[22m\u001b[22m\n",
      " [9] \u001b[1moptimize\u001b[22m\u001b[22m\u001b[1m(\u001b[22m\u001b[22m::Gurobi.Model\u001b[1m)\u001b[22m\u001b[22m at \u001b[1mC:\\Users\\pbelin\\AppData\\Local\\JuliaPro-0.6.0.1\\pkgs-0.6.0.1\\v0.6\\Gurobi\\src\\grb_solve.jl:5\u001b[22m\u001b[22m\n",
      " [10] \u001b[1moptimize!\u001b[22m\u001b[22m\u001b[1m(\u001b[22m\u001b[22m::Gurobi.GurobiMathProgModel\u001b[1m)\u001b[22m\u001b[22m at \u001b[1mC:\\Users\\pbelin\\AppData\\Local\\JuliaPro-0.6.0.1\\pkgs-0.6.0.1\\v0.6\\Gurobi\\src\\GurobiSolverInterface.jl:358\u001b[22m\u001b[22m\n",
      " [11] \u001b[1m#solve#116\u001b[22m\u001b[22m\u001b[1m(\u001b[22m\u001b[22m::Bool, ::Bool, ::Bool, ::Array{Any,1}, ::Function, ::JuMP.Model\u001b[1m)\u001b[22m\u001b[22m at \u001b[1mC:\\\\\\\\\\\\\\\\\\\\\\\\\\\\\\\\\\\\\\\\\\\\\\\\\\\\\\\\\\\\\\\\\\\\\\\\\\\\\\\\\\\\\\\\\\\\\\\\\\\\\\\\\\\\Users\\pbelin\\AppData\\Local\\JuliaPro-0.6.0.1\\pkgs-0.6.0.1\\v0.6\\JuMP\\src\\solvers.jl:175\u001b[22m\u001b[22m\n",
      " [12] \u001b[1msolve\u001b[22m\u001b[22m\u001b[1m(\u001b[22m\u001b[22m::JuMP.Model\u001b[1m)\u001b[22m\u001b[22m at \u001b[1mC:\\\\\\\\\\\\\\\\\\\\\\\\\\\\\\\\\\\\\\\\\\\\\\\\\\\\\\\\\\\\\\\\\\\\\\\\\\\\\\\\\\\\\\\\\\\\\\\\\\\\\\\\\\\\Users\\pbelin\\AppData\\Local\\JuliaPro-0.6.0.1\\pkgs-0.6.0.1\\v0.6\\JuMP\\src\\solvers.jl:150\u001b[22m\u001b[22m\n",
      " [13] \u001b[1minclude_string\u001b[22m\u001b[22m\u001b[1m(\u001b[22m\u001b[22m::String, ::String\u001b[1m)\u001b[22m\u001b[22m at \u001b[1m.\\loading.jl:515\u001b[22m\u001b[22m\n",
      " [14] \u001b[1mexecute_request\u001b[22m\u001b[22m\u001b[1m(\u001b[22m\u001b[22m::ZMQ.Socket, ::IJulia.Msg\u001b[1m)\u001b[22m\u001b[22m at \u001b[1mC:\\Users\\pbelin\\AppData\\Local\\JuliaPro-0.6.0.1\\pkgs-0.6.0.1\\v0.6\\IJulia\\src\\execute_request.jl:160\u001b[22m\u001b[22m\n",
      " [15] \u001b[1meventloop\u001b[22m\u001b[22m\u001b[1m(\u001b[22m\u001b[22m::ZMQ.Socket\u001b[1m)\u001b[22m\u001b[22m at \u001b[1mC:\\Users\\pbelin\\AppData\\Local\\JuliaPro-0.6.0.1\\pkgs-0.6.0.1\\v0.6\\IJulia\\src\\eventloop.jl:8\u001b[22m\u001b[22m\n",
      " [16] \u001b[1m(::IJulia.##11#14)\u001b[22m\u001b[22m\u001b[1m(\u001b[22m\u001b[22m\u001b[1m)\u001b[22m\u001b[22m at \u001b[1m.\\task.jl:335\u001b[22m\u001b[22m\n",
      "while loading In[28], in expression starting on line 5\n"
     ]
    },
    {
     "data": {
      "text/html": [
       "<img src=\"data:image/png;base64,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\" />"
      ]
     },
     "execution_count": 28,
     "metadata": {},
     "output_type": "execute_result"
    }
   ],
   "source": [
    "# [... Código com a implementação do modelo ...]\n",
    "\n",
    "addlazycallback(model, lazyConstraintsCallback)\n",
    "\n",
    "solve(model)\n",
    "\n",
    "edgeOrigin = []\n",
    "edgeDest = []\n",
    "\n",
    "for i in keys(citiesDict)\n",
    "    for j in keys(citiesDict)\n",
    "        if i != j && getvalue(x[i, j]) > 0.01\n",
    "            append!(edgeOrigin, i)\n",
    "            append!(edgeDest, j)\n",
    "        end\n",
    "    end\n",
    "end\n",
    "\n",
    "graphplot(edgeOrigin, edgeDest, names=1:nCities,\n",
    "    x=posX, y=posY, fontsize=10, m=:white, l=:black)"
   ]
  },
  {
   "cell_type": "markdown",
   "metadata": {},
   "source": [
    "No caso do Gurobi, é possível visualizar o número de restrições adicionadas durante o processo de resolução. As informações disponíveis podem variar de acordo com o pacote computacional utilizado e podem ser consultadas no respectivo manual.\n",
    "\n",
    "## <i> User cuts</i>\n",
    "\n",
    "A <i>callback user cuts</i> pode ser interessante caso o usuário conheça desigualdades válidas (cortes) para o seu problema e seja custoso adicioná-las <i>a priori</i>. Essa <i>callback</i> é chamada sempre que o resolvedor encontra uma solução ótima para a relaxação linear do problema. Embora chamada em momento diferente, a sua implementação é semelhante ao caso de <i>lazy constraints</i>."
   ]
  },
  {
   "cell_type": "code",
   "execution_count": 29,
   "metadata": {},
   "outputs": [
    {
     "data": {
      "text/plain": [
       "userCutsCallback (generic function with 1 method)"
      ]
     },
     "execution_count": 29,
     "metadata": {},
     "output_type": "execute_result"
    }
   ],
   "source": [
    "using Graphs\n",
    "\n",
    "function userCutsCallback(cb)\n",
    "\n",
    "    # Criando um grafo:\n",
    "    g = simple_graph(nCities, is_directed=false)\n",
    "\n",
    "    for i in 1:nCities, j in 1:nCities\n",
    "        if i != j\n",
    "            if getvalue(x[i, j]) > 0.01\n",
    "                add_edge!(g, i, j)  # Adicionando as arestas.\n",
    "            end\n",
    "        end\n",
    "    end\n",
    "\n",
    "    # Encontrando os componentes conexos do grafo:\n",
    "    cc = connected_components(g)\n",
    "\n",
    "    minTour = sort(cc, by=length)[1]\n",
    "    subtourLhs = AffExpr()\n",
    "\n",
    "    # Encontrando as arestas que fazem parte do subciclo\n",
    "    countEdges = 0\n",
    "    for i in minTour\n",
    "        for j in minTour\n",
    "            if i != j && getvalue(x[i, j]) > 0.01\n",
    "                subtourLhs += x[i, j]\n",
    "                countEdges += 1\n",
    "            end \n",
    "        end\n",
    "    end\n",
    "\n",
    "    # Adicionando a restrição:\n",
    "    if length(cc) > 1\n",
    "        @usercut(cb, subtourLhs <= length(minTour) - 1)\n",
    "    elseif countEdges > length(vertices(g))\n",
    "        @usercut(cb, subtourLhs == length(vertices(g)))\n",
    "    end\n",
    "    \n",
    "end # End function"
   ]
  },
  {
   "cell_type": "markdown",
   "metadata": {},
   "source": [
    "É importante destacar que as restrições adicionadas utilizando <i>user cuts</i> não devem alterar o conjunto de soluções factíveis do problema original, elas têm a função, apenas, de melhorar o limitante dual do problema. Portanto, para o exemplo do caixeiro viajante aqui apresentado, é necessário utilizar as duas <i>callbacks</i>."
   ]
  },
  {
   "cell_type": "code",
   "execution_count": 30,
   "metadata": {},
   "outputs": [
    {
     "name": "stdout",
     "output_type": "stream",
     "text": [
      "Academic license - for non-commercial use only\r\n"
     ]
    },
    {
     "name": "stderr",
     "output_type": "stream",
     "text": [
      "\u001b[1m\u001b[33mWARNING: \u001b[39m\u001b[22m\u001b[33mArray{T}(::Type{T}, m::Int) is deprecated, use Array{T}(m) instead.\u001b[39m\n",
      "Stacktrace:\n",
      " [1] \u001b[1mdepwarn\u001b[22m\u001b[22m\u001b[1m(\u001b[22m\u001b[22m::String, ::Symbol\u001b[1m)\u001b[22m\u001b[22m at \u001b[1m.\\deprecated.jl:70\u001b[22m\u001b[22m\n",
      " [2] \u001b[1mArray\u001b[22m\u001b[22m\u001b[1m(\u001b[22m\u001b[22m::Type{Array{Int64,1}}, ::Int64\u001b[1m)\u001b[22m\u001b[22m at \u001b[1m.\\deprecated.jl:57\u001b[22m\u001b[22m\n",
      " [3] \u001b[1mconnected_components\u001b[22m\u001b[22m\u001b[1m(\u001b[22m\u001b[22m::Graphs.GenericGraph{Int64,Graphs.Edge{Int64},UnitRange{Int64},Array{Graphs.Edge{Int64},1},Array{Array{Graphs.Edge{Int64},1},1}}\u001b[1m)\u001b[22m\u001b[22m at \u001b[1mC:\\Users\\pbelin\\AppData\\Local\\JuliaPro-0.6.0.1\\pkgs-0.6.0.1\\v0.6\\Graphs\\src\\connected_components.jl:15\u001b[22m\u001b[22m\n",
      " [4] \u001b[1mlazyConstraintsCallback\u001b[22m\u001b[22m\u001b[1m(\u001b[22m\u001b[22m::Gurobi.GurobiCallbackData\u001b[1m)\u001b[22m\u001b[22m at \u001b[1m.\\In[27]:17\u001b[22m\u001b[22m\n",
      " [5] \u001b[1mlazycallback\u001b[22m\u001b[22m\u001b[1m(\u001b[22m\u001b[22m::Gurobi.GurobiCallbackData, ::JuMP.Model, ::Array{JuMP.LazyCallback,1}\u001b[1m)\u001b[22m\u001b[22m at \u001b[1mC:\\\\\\\\\\\\\\\\\\\\\\\\\\\\\\\\\\\\\\\\\\\\\\\\\\\\\\\\\\\\\\\\\\\\\\\\\\\\\\\\\\\\\\\\\\\\\\\\\\\\\\\\\\\\Users\\pbelin\\AppData\\Local\\JuliaPro-0.6.0.1\\pkgs-0.6.0.1\\v0.6\\JuMP\\src\\callbacks.jl:78\u001b[22m\u001b[22m\n",
      " [6] \u001b[1m(::JuMP.##140#141{JuMP.Model,Array{JuMP.LazyCallback,1}})\u001b[22m\u001b[22m\u001b[1m(\u001b[22m\u001b[22m::Gurobi.GurobiCallbackData\u001b[1m)\u001b[22m\u001b[22m at \u001b[1mC:\\\\\\\\\\\\\\\\\\\\\\\\\\\\\\\\\\\\\\\\\\\\\\\\\\\\\\\\\\\\\\\\\\\\\\\\\\\\\\\\\\\\\\\\\\\\\\\\\\\\\\\\\\\\Users\\pbelin\\AppData\\Local\\JuliaPro-0.6.0.1\\pkgs-0.6.0.1\\v0.6\\JuMP\\src\\callbacks.jl:96\u001b[22m\u001b[22m\n",
      " [7] \u001b[1mmastercallback\u001b[22m\u001b[22m\u001b[1m(\u001b[22m\u001b[22m::Ptr{Void}, ::Ptr{Void}, ::Int32, ::Ptr{Void}\u001b[1m)\u001b[22m\u001b[22m at \u001b[1mC:\\Users\\pbelin\\AppData\\Local\\JuliaPro-0.6.0.1\\pkgs-0.6.0.1\\v0.6\\Gurobi\\src\\GurobiSolverInterface.jl:634\u001b[22m\u001b[22m\n",
      " [8] \u001b[1moptimize\u001b[22m\u001b[22m\u001b[1m(\u001b[22m\u001b[22m::Gurobi.Model\u001b[1m)\u001b[22m\u001b[22m at \u001b[1mC:\\Users\\pbelin\\AppData\\Local\\JuliaPro-0.6.0.1\\pkgs-0.6.0.1\\v0.6\\Gurobi\\src\\grb_solve.jl:5\u001b[22m\u001b[22m\n",
      " [9] \u001b[1moptimize!\u001b[22m\u001b[22m\u001b[1m(\u001b[22m\u001b[22m::Gurobi.GurobiMathProgModel\u001b[1m)\u001b[22m\u001b[22m at \u001b[1mC:\\Users\\pbelin\\AppData\\Local\\JuliaPro-0.6.0.1\\pkgs-0.6.0.1\\v0.6\\Gurobi\\src\\GurobiSolverInterface.jl:358\u001b[22m\u001b[22m\n",
      " [10] \u001b[1m#solve#116\u001b[22m\u001b[22m\u001b[1m(\u001b[22m\u001b[22m::Bool, ::Bool, ::Bool, ::Array{Any,1}, ::Function, ::JuMP.Model\u001b[1m)\u001b[22m\u001b[22m at \u001b[1mC:\\\\\\\\\\\\\\\\\\\\\\\\\\\\\\\\\\\\\\\\\\\\\\\\\\\\\\\\\\\\\\\\\\\\\\\\\\\\\\\\\\\\\\\\\\\\\\\\\\\\\\\\\\\\Users\\pbelin\\AppData\\Local\\JuliaPro-0.6.0.1\\pkgs-0.6.0.1\\v0.6\\JuMP\\src\\solvers.jl:175\u001b[22m\u001b[22m\n",
      " [11] \u001b[1msolve\u001b[22m\u001b[22m\u001b[1m(\u001b[22m\u001b[22m::JuMP.Model\u001b[1m)\u001b[22m\u001b[22m at \u001b[1mC:\\\\\\\\\\\\\\\\\\\\\\\\\\\\\\\\\\\\\\\\\\\\\\\\\\\\\\\\\\\\\\\\\\\\\\\\\\\\\\\\\\\\\\\\\\\\\\\\\\\\\\\\\\\\Users\\pbelin\\AppData\\Local\\JuliaPro-0.6.0.1\\pkgs-0.6.0.1\\v0.6\\JuMP\\src\\solvers.jl:150\u001b[22m\u001b[22m\n",
      " [12] \u001b[1minclude_string\u001b[22m\u001b[22m\u001b[1m(\u001b[22m\u001b[22m::String, ::String\u001b[1m)\u001b[22m\u001b[22m at \u001b[1m.\\loading.jl:515\u001b[22m\u001b[22m\n",
      " [13] \u001b[1mexecute_request\u001b[22m\u001b[22m\u001b[1m(\u001b[22m\u001b[22m::ZMQ.Socket, ::IJulia.Msg\u001b[1m)\u001b[22m\u001b[22m at \u001b[1mC:\\Users\\pbelin\\AppData\\Local\\JuliaPro-0.6.0.1\\pkgs-0.6.0.1\\v0.6\\IJulia\\src\\execute_request.jl:160\u001b[22m\u001b[22m\n",
      " [14] \u001b[1meventloop\u001b[22m\u001b[22m\u001b[1m(\u001b[22m\u001b[22m::ZMQ.Socket\u001b[1m)\u001b[22m\u001b[22m at \u001b[1mC:\\Users\\pbelin\\AppData\\Local\\JuliaPro-0.6.0.1\\pkgs-0.6.0.1\\v0.6\\IJulia\\src\\eventloop.jl:8\u001b[22m\u001b[22m\n",
      " [15] \u001b[1m(::IJulia.##11#14)\u001b[22m\u001b[22m\u001b[1m(\u001b[22m\u001b[22m\u001b[1m)\u001b[22m\u001b[22m at \u001b[1m.\\task.jl:335\u001b[22m\u001b[22m\n",
      "while loading In[30], in expression starting on line 4\n",
      "\u001b[1m\u001b[33mWARNING: \u001b[39m\u001b[22m\u001b[33mArray{T}(::Type{T}, m::Int) is deprecated, use Array{T}(m) instead.\u001b[39m\n",
      "Stacktrace:\n",
      " [1] \u001b[1mdepwarn\u001b[22m\u001b[22m\u001b[1m(\u001b[22m\u001b[22m::String, ::Symbol\u001b[1m)\u001b[22m\u001b[22m at \u001b[1m.\\deprecated.jl:70\u001b[22m\u001b[22m\n",
      " [2] \u001b[1mArray\u001b[22m\u001b[22m\u001b[1m(\u001b[22m\u001b[22m::Type{Int64}, ::Int64\u001b[1m)\u001b[22m\u001b[22m at \u001b[1m.\\deprecated.jl:57\u001b[22m\u001b[22m\n",
      " [3] \u001b[1mType\u001b[22m\u001b[22m at \u001b[1mC:\\Users\\pbelin\\AppData\\Local\\JuliaPro-0.6.0.1\\pkgs-0.6.0.1\\v0.6\\Graphs\\src\\graph_visit.jl:44\u001b[22m\u001b[22m [inlined]\n",
      " [4] \u001b[1mconnected_components\u001b[22m\u001b[22m\u001b[1m(\u001b[22m\u001b[22m::Graphs.GenericGraph{Int64,Graphs.Edge{Int64},UnitRange{Int64},Array{Graphs.Edge{Int64},1},Array{Array{Graphs.Edge{Int64},1},1}}\u001b[1m)\u001b[22m\u001b[22m at \u001b[1mC:\\Users\\pbelin\\AppData\\Local\\JuliaPro-0.6.0.1\\pkgs-0.6.0.1\\v0.6\\Graphs\\src\\connected_components.jl:19\u001b[22m\u001b[22m\n",
      " [5] \u001b[1mlazyConstraintsCallback\u001b[22m\u001b[22m\u001b[1m(\u001b[22m\u001b[22m::Gurobi.GurobiCallbackData\u001b[1m)\u001b[22m\u001b[22m at \u001b[1m.\\In[27]:17\u001b[22m\u001b[22m\n",
      " [6] \u001b[1mlazycallback\u001b[22m\u001b[22m\u001b[1m(\u001b[22m\u001b[22m::Gurobi.GurobiCallbackData, ::JuMP.Model, ::Array{JuMP.LazyCallback,1}\u001b[1m)\u001b[22m\u001b[22m at \u001b[1mC:\\\\\\\\\\\\\\\\\\\\\\\\\\\\\\\\\\\\\\\\\\\\\\\\\\\\\\\\\\\\\\\\\\\\\\\\\\\\\\\\\\\\\\\\\\\\\\\\\\\\\\\\\\\\Users\\pbelin\\AppData\\Local\\JuliaPro-0.6.0.1\\pkgs-0.6.0.1\\v0.6\\JuMP\\src\\callbacks.jl:78\u001b[22m\u001b[22m\n",
      " [7] \u001b[1m(::JuMP.##140#141{JuMP.Model,Array{JuMP.LazyCallback,1}})\u001b[22m\u001b[22m\u001b[1m(\u001b[22m\u001b[22m::Gurobi.GurobiCallbackData\u001b[1m)\u001b[22m\u001b[22m at \u001b[1mC:\\\\\\\\\\\\\\\\\\\\\\\\\\\\\\\\\\\\\\\\\\\\\\\\\\\\\\\\\\\\\\\\\\\\\\\\\\\\\\\\\\\\\\\\\\\\\\\\\\\\\\\\\\\\Users\\pbelin\\AppData\\Local\\JuliaPro-0.6.0.1\\pkgs-0.6.0.1\\v0.6\\JuMP\\src\\callbacks.jl:96\u001b[22m\u001b[22m\n",
      " [8] \u001b[1mmastercallback\u001b[22m\u001b[22m\u001b[1m(\u001b[22m\u001b[22m::Ptr{Void}, ::Ptr{Void}, ::Int32, ::Ptr{Void}\u001b[1m)\u001b[22m\u001b[22m at \u001b[1mC:\\Users\\pbelin\\AppData\\Local\\JuliaPro-0.6.0.1\\pkgs-0.6.0.1\\v0.6\\Gurobi\\src\\GurobiSolverInterface.jl:634\u001b[22m\u001b[22m\n",
      " [9] \u001b[1moptimize\u001b[22m\u001b[22m\u001b[1m(\u001b[22m\u001b[22m::Gurobi.Model\u001b[1m)\u001b[22m\u001b[22m at \u001b[1mC:\\Users\\pbelin\\AppData\\Local\\JuliaPro-0.6.0.1\\pkgs-0.6.0.1\\v0.6\\Gurobi\\src\\grb_solve.jl:5\u001b[22m\u001b[22m\n",
      " [10] \u001b[1moptimize!\u001b[22m\u001b[22m\u001b[1m(\u001b[22m\u001b[22m::Gurobi.GurobiMathProgModel\u001b[1m)\u001b[22m\u001b[22m at \u001b[1mC:\\Users\\pbelin\\AppData\\Local\\JuliaPro-0.6.0.1\\pkgs-0.6.0.1\\v0.6\\Gurobi\\src\\GurobiSolverInterface.jl:358\u001b[22m\u001b[22m\n",
      " [11] \u001b[1m#solve#116\u001b[22m\u001b[22m\u001b[1m(\u001b[22m\u001b[22m::Bool, ::Bool, ::Bool, ::Array{Any,1}, ::Function, ::JuMP.Model\u001b[1m)\u001b[22m\u001b[22m at \u001b[1mC:\\\\\\\\\\\\\\\\\\\\\\\\\\\\\\\\\\\\\\\\\\\\\\\\\\\\\\\\\\\\\\\\\\\\\\\\\\\\\\\\\\\\\\\\\\\\\\\\\\\\\\\\\\\\Users\\pbelin\\AppData\\Local\\JuliaPro-0.6.0.1\\pkgs-0.6.0.1\\v0.6\\JuMP\\src\\solvers.jl:175\u001b[22m\u001b[22m\n",
      " [12] \u001b[1msolve\u001b[22m\u001b[22m\u001b[1m(\u001b[22m\u001b[22m::JuMP.Model\u001b[1m)\u001b[22m\u001b[22m at \u001b[1mC:\\\\\\\\\\\\\\\\\\\\\\\\\\\\\\\\\\\\\\\\\\\\\\\\\\\\\\\\\\\\\\\\\\\\\\\\\\\\\\\\\\\\\\\\\\\\\\\\\\\\\\\\\\\\Users\\pbelin\\AppData\\Local\\JuliaPro-0.6.0.1\\pkgs-0.6.0.1\\v0.6\\JuMP\\src\\solvers.jl:150\u001b[22m\u001b[22m\n",
      " [13] \u001b[1minclude_string\u001b[22m\u001b[22m\u001b[1m(\u001b[22m\u001b[22m::String, ::String\u001b[1m)\u001b[22m\u001b[22m at \u001b[1m.\\loading.jl:515\u001b[22m\u001b[22m\n",
      " [14] \u001b[1mexecute_request\u001b[22m\u001b[22m\u001b[1m(\u001b[22m\u001b[22m::ZMQ.Socket, ::IJulia.Msg\u001b[1m)\u001b[22m\u001b[22m at \u001b[1mC:\\Users\\pbelin\\AppData\\Local\\JuliaPro-0.6.0.1\\pkgs-0.6.0.1\\v0.6\\IJulia\\src\\execute_request.jl:160\u001b[22m\u001b[22m\n",
      " [15] \u001b[1meventloop\u001b[22m\u001b[22m\u001b[1m(\u001b[22m\u001b[22m::ZMQ.Socket\u001b[1m)\u001b[22m\u001b[22m at \u001b[1mC:\\Users\\pbelin\\AppData\\Local\\JuliaPro-0.6.0.1\\pkgs-0.6.0.1\\v0.6\\IJulia\\src\\eventloop.jl:8\u001b[22m\u001b[22m\n",
      " [16] \u001b[1m(::IJulia.##11#14)\u001b[22m\u001b[22m\u001b[1m(\u001b[22m\u001b[22m\u001b[1m)\u001b[22m\u001b[22m at \u001b[1m.\\task.jl:335\u001b[22m\u001b[22m\n",
      "while loading In[30], in expression starting on line 4\n"
     ]
    },
    {
     "data": {
      "text/plain": [
       ":Optimal"
      ]
     },
     "execution_count": 30,
     "metadata": {},
     "output_type": "execute_result"
    }
   ],
   "source": [
    "addcutcallback(model, userCutsCallback)\n",
    "addlazycallback(model, lazyConstraintsCallback)\n",
    "\n",
    "solve(model)"
   ]
  },
  {
   "cell_type": "markdown",
   "metadata": {},
   "source": [
    "## <i> User heuristics</i>\n",
    "\n",
    "A <i>callback user heuristics</i> permite que sejam submetidas soluções heurísticas para o resolvedor. O comportamento específico dessa <i>callback</i> depende do resolvedor que está sendo utilizado e é necessário consultar o respectivo manual. Para o exemplo do caixeiro viajante, considere uma heurística que inclui na rota arestas correspondentes as variáveis com valores no intervalo (0,1; 1]. Isto é, atribui 1 a variáveis cuja a solução da relaxação é maior do que 0,1. Essa procedimento constrói uma solução candidata, que é submetida ao Gurobi, caso ela seja factível, ela é incluída nas soluções encontradas até o momento, caso contrário ela é desconsiderada. Esse procedimento pode ser implementado da seguinte maneira:"
   ]
  },
  {
   "cell_type": "code",
   "execution_count": 31,
   "metadata": {},
   "outputs": [
    {
     "data": {
      "text/plain": [
       "userHeuristicsCallback (generic function with 1 method)"
      ]
     },
     "execution_count": 31,
     "metadata": {},
     "output_type": "execute_result"
    }
   ],
   "source": [
    "function userHeuristicsCallback(cb)\n",
    "    for i in 1:nCities, j in 1:nCities\n",
    "        if i != j\n",
    "            if  getvalue(x[i, j]) > 0.1\n",
    "                # Atribuindo um valor à variável:\n",
    "                setsolutionvalue(cb, x[i, j], 1)\n",
    "            end            \n",
    "        end\n",
    "    end\n",
    "    \n",
    "    # Submetendo solução:\n",
    "    addsolution(cb)                    \n",
    "    \n",
    "end"
   ]
  },
  {
   "cell_type": "markdown",
   "metadata": {},
   "source": [
    "Para o exemplo, foram atribuídos valores a todas as variáveis do problema. Isso não é uma exigência, pode-se submeter uma solução parcial, atribuindo valores à apenas algumas variáveis. Novamente, o tratamento dos valores restantes depende do resolvedor. Para utilizar a função implementada como <i>callback</i> procede-se de maneira semelhante aos casos anteriores, podendo-se, inclusive, utilizar outras <i>callbacks</i> simultanetamente."
   ]
  },
  {
   "cell_type": "code",
   "execution_count": 32,
   "metadata": {},
   "outputs": [
    {
     "name": "stdout",
     "output_type": "stream",
     "text": [
      "Academic license - for non-commercial use only\r\n"
     ]
    },
    {
     "name": "stderr",
     "output_type": "stream",
     "text": [
      "\u001b[1m\u001b[33mWARNING: \u001b[39m\u001b[22m\u001b[33mArray{T}(::Type{T}, m::Int) is deprecated, use Array{T}(m) instead.\u001b[39m\n",
      "Stacktrace:\n",
      " [1] \u001b[1mdepwarn\u001b[22m\u001b[22m\u001b[1m(\u001b[22m\u001b[22m::String, ::Symbol\u001b[1m)\u001b[22m\u001b[22m at \u001b[1m.\\deprecated.jl:70\u001b[22m\u001b[22m\n",
      " [2] \u001b[1mArray\u001b[22m\u001b[22m\u001b[1m(\u001b[22m\u001b[22m::Type{Array{Int64,1}}, ::Int64\u001b[1m)\u001b[22m\u001b[22m at \u001b[1m.\\deprecated.jl:57\u001b[22m\u001b[22m\n",
      " [3] \u001b[1mconnected_components\u001b[22m\u001b[22m\u001b[1m(\u001b[22m\u001b[22m::Graphs.GenericGraph{Int64,Graphs.Edge{Int64},UnitRange{Int64},Array{Graphs.Edge{Int64},1},Array{Array{Graphs.Edge{Int64},1},1}}\u001b[1m)\u001b[22m\u001b[22m at \u001b[1mC:\\Users\\pbelin\\AppData\\Local\\JuliaPro-0.6.0.1\\pkgs-0.6.0.1\\v0.6\\Graphs\\src\\connected_components.jl:15\u001b[22m\u001b[22m\n",
      " [4] \u001b[1mlazyConstraintsCallback\u001b[22m\u001b[22m\u001b[1m(\u001b[22m\u001b[22m::Gurobi.GurobiCallbackData\u001b[1m)\u001b[22m\u001b[22m at \u001b[1m.\\In[27]:17\u001b[22m\u001b[22m\n",
      " [5] \u001b[1mlazycallback\u001b[22m\u001b[22m\u001b[1m(\u001b[22m\u001b[22m::Gurobi.GurobiCallbackData, ::JuMP.Model, ::Array{JuMP.LazyCallback,1}\u001b[1m)\u001b[22m\u001b[22m at \u001b[1mC:\\\\\\\\\\\\\\\\\\\\\\\\\\\\\\\\\\\\\\\\\\\\\\\\\\\\\\\\\\\\\\\\\\\\\\\\\\\\\\\\\\\\\\\\\\\\\\\\\\\\\\\\\\\\Users\\pbelin\\AppData\\Local\\JuliaPro-0.6.0.1\\pkgs-0.6.0.1\\v0.6\\JuMP\\src\\callbacks.jl:78\u001b[22m\u001b[22m\n",
      " [6] \u001b[1m(::JuMP.##140#141{JuMP.Model,Array{JuMP.LazyCallback,1}})\u001b[22m\u001b[22m\u001b[1m(\u001b[22m\u001b[22m::Gurobi.GurobiCallbackData\u001b[1m)\u001b[22m\u001b[22m at \u001b[1mC:\\\\\\\\\\\\\\\\\\\\\\\\\\\\\\\\\\\\\\\\\\\\\\\\\\\\\\\\\\\\\\\\\\\\\\\\\\\\\\\\\\\\\\\\\\\\\\\\\\\\\\\\\\\\Users\\pbelin\\AppData\\Local\\JuliaPro-0.6.0.1\\pkgs-0.6.0.1\\v0.6\\JuMP\\src\\callbacks.jl:96\u001b[22m\u001b[22m\n",
      " [7] \u001b[1mmastercallback\u001b[22m\u001b[22m\u001b[1m(\u001b[22m\u001b[22m::Ptr{Void}, ::Ptr{Void}, ::Int32, ::Ptr{Void}\u001b[1m)\u001b[22m\u001b[22m at \u001b[1mC:\\Users\\pbelin\\AppData\\Local\\JuliaPro-0.6.0.1\\pkgs-0.6.0.1\\v0.6\\Gurobi\\src\\GurobiSolverInterface.jl:634\u001b[22m\u001b[22m\n",
      " [8] \u001b[1moptimize\u001b[22m\u001b[22m\u001b[1m(\u001b[22m\u001b[22m::Gurobi.Model\u001b[1m)\u001b[22m\u001b[22m at \u001b[1mC:\\Users\\pbelin\\AppData\\Local\\JuliaPro-0.6.0.1\\pkgs-0.6.0.1\\v0.6\\Gurobi\\src\\grb_solve.jl:5\u001b[22m\u001b[22m\n",
      " [9] \u001b[1moptimize!\u001b[22m\u001b[22m\u001b[1m(\u001b[22m\u001b[22m::Gurobi.GurobiMathProgModel\u001b[1m)\u001b[22m\u001b[22m at \u001b[1mC:\\Users\\pbelin\\AppData\\Local\\JuliaPro-0.6.0.1\\pkgs-0.6.0.1\\v0.6\\Gurobi\\src\\GurobiSolverInterface.jl:358\u001b[22m\u001b[22m\n",
      " [10] \u001b[1m#solve#116\u001b[22m\u001b[22m\u001b[1m(\u001b[22m\u001b[22m::Bool, ::Bool, ::Bool, ::Array{Any,1}, ::Function, ::JuMP.Model\u001b[1m)\u001b[22m\u001b[22m at \u001b[1mC:\\\\\\\\\\\\\\\\\\\\\\\\\\\\\\\\\\\\\\\\\\\\\\\\\\\\\\\\\\\\\\\\\\\\\\\\\\\\\\\\\\\\\\\\\\\\\\\\\\\\\\\\\\\\Users\\pbelin\\AppData\\Local\\JuliaPro-0.6.0.1\\pkgs-0.6.0.1\\v0.6\\JuMP\\src\\solvers.jl:175\u001b[22m\u001b[22m\n",
      " [11] \u001b[1msolve\u001b[22m\u001b[22m\u001b[1m(\u001b[22m\u001b[22m::JuMP.Model\u001b[1m)\u001b[22m\u001b[22m at \u001b[1mC:\\\\\\\\\\\\\\\\\\\\\\\\\\\\\\\\\\\\\\\\\\\\\\\\\\\\\\\\\\\\\\\\\\\\\\\\\\\\\\\\\\\\\\\\\\\\\\\\\\\\\\\\\\\\Users\\pbelin\\AppData\\Local\\JuliaPro-0.6.0.1\\pkgs-0.6.0.1\\v0.6\\JuMP\\src\\solvers.jl:150\u001b[22m\u001b[22m\n",
      " [12] \u001b[1minclude_string\u001b[22m\u001b[22m\u001b[1m(\u001b[22m\u001b[22m::String, ::String\u001b[1m)\u001b[22m\u001b[22m at \u001b[1m.\\loading.jl:515\u001b[22m\u001b[22m\n",
      " [13] \u001b[1mexecute_request\u001b[22m\u001b[22m\u001b[1m(\u001b[22m\u001b[22m::ZMQ.Socket, ::IJulia.Msg\u001b[1m)\u001b[22m\u001b[22m at \u001b[1mC:\\Users\\pbelin\\AppData\\Local\\JuliaPro-0.6.0.1\\pkgs-0.6.0.1\\v0.6\\IJulia\\src\\execute_request.jl:160\u001b[22m\u001b[22m\n",
      " [14] \u001b[1meventloop\u001b[22m\u001b[22m\u001b[1m(\u001b[22m\u001b[22m::ZMQ.Socket\u001b[1m)\u001b[22m\u001b[22m at \u001b[1mC:\\Users\\pbelin\\AppData\\Local\\JuliaPro-0.6.0.1\\pkgs-0.6.0.1\\v0.6\\IJulia\\src\\eventloop.jl:8\u001b[22m\u001b[22m\n",
      " [15] \u001b[1m(::IJulia.##11#14)\u001b[22m\u001b[22m\u001b[1m(\u001b[22m\u001b[22m\u001b[1m)\u001b[22m\u001b[22m at \u001b[1m.\\task.jl:335\u001b[22m\u001b[22m\n",
      "while loading In[32], in expression starting on line 5\n",
      "\u001b[1m\u001b[33mWARNING: \u001b[39m\u001b[22m\u001b[33mArray{T}(::Type{T}, m::Int) is deprecated, use Array{T}(m) instead.\u001b[39m\n",
      "Stacktrace:\n",
      " [1] \u001b[1mdepwarn\u001b[22m\u001b[22m\u001b[1m(\u001b[22m\u001b[22m::String, ::Symbol\u001b[1m)\u001b[22m\u001b[22m at \u001b[1m.\\deprecated.jl:70\u001b[22m\u001b[22m\n",
      " [2] \u001b[1mArray\u001b[22m\u001b[22m\u001b[1m(\u001b[22m\u001b[22m::Type{Int64}, ::Int64\u001b[1m)\u001b[22m\u001b[22m at \u001b[1m.\\deprecated.jl:57\u001b[22m\u001b[22m\n",
      " [3] \u001b[1mType\u001b[22m\u001b[22m at \u001b[1mC:\\Users\\pbelin\\AppData\\Local\\JuliaPro-0.6.0.1\\pkgs-0.6.0.1\\v0.6\\Graphs\\src\\graph_visit.jl:44\u001b[22m\u001b[22m [inlined]\n",
      " [4] \u001b[1mconnected_components\u001b[22m\u001b[22m\u001b[1m(\u001b[22m\u001b[22m::Graphs.GenericGraph{Int64,Graphs.Edge{Int64},UnitRange{Int64},Array{Graphs.Edge{Int64},1},Array{Array{Graphs.Edge{Int64},1},1}}\u001b[1m)\u001b[22m\u001b[22m at \u001b[1mC:\\Users\\pbelin\\AppData\\Local\\JuliaPro-0.6.0.1\\pkgs-0.6.0.1\\v0.6\\Graphs\\src\\connected_components.jl:19\u001b[22m\u001b[22m\n",
      " [5] \u001b[1mlazyConstraintsCallback\u001b[22m\u001b[22m\u001b[1m(\u001b[22m\u001b[22m::Gurobi.GurobiCallbackData\u001b[1m)\u001b[22m\u001b[22m at \u001b[1m.\\In[27]:17\u001b[22m\u001b[22m\n",
      " [6] \u001b[1mlazycallback\u001b[22m\u001b[22m\u001b[1m(\u001b[22m\u001b[22m::Gurobi.GurobiCallbackData, ::JuMP.Model, ::Array{JuMP.LazyCallback,1}\u001b[1m)\u001b[22m\u001b[22m at \u001b[1mC:\\\\\\\\\\\\\\\\\\\\\\\\\\\\\\\\\\\\\\\\\\\\\\\\\\\\\\\\\\\\\\\\\\\\\\\\\\\\\\\\\\\\\\\\\\\\\\\\\\\\\\\\\\\\Users\\pbelin\\AppData\\Local\\JuliaPro-0.6.0.1\\pkgs-0.6.0.1\\v0.6\\JuMP\\src\\callbacks.jl:78\u001b[22m\u001b[22m\n",
      " [7] \u001b[1m(::JuMP.##140#141{JuMP.Model,Array{JuMP.LazyCallback,1}})\u001b[22m\u001b[22m\u001b[1m(\u001b[22m\u001b[22m::Gurobi.GurobiCallbackData\u001b[1m)\u001b[22m\u001b[22m at \u001b[1mC:\\\\\\\\\\\\\\\\\\\\\\\\\\\\\\\\\\\\\\\\\\\\\\\\\\\\\\\\\\\\\\\\\\\\\\\\\\\\\\\\\\\\\\\\\\\\\\\\\\\\\\\\\\\\Users\\pbelin\\AppData\\Local\\JuliaPro-0.6.0.1\\pkgs-0.6.0.1\\v0.6\\JuMP\\src\\callbacks.jl:96\u001b[22m\u001b[22m\n",
      " [8] \u001b[1mmastercallback\u001b[22m\u001b[22m\u001b[1m(\u001b[22m\u001b[22m::Ptr{Void}, ::Ptr{Void}, ::Int32, ::Ptr{Void}\u001b[1m)\u001b[22m\u001b[22m at \u001b[1mC:\\Users\\pbelin\\AppData\\Local\\JuliaPro-0.6.0.1\\pkgs-0.6.0.1\\v0.6\\Gurobi\\src\\GurobiSolverInterface.jl:634\u001b[22m\u001b[22m\n",
      " [9] \u001b[1moptimize\u001b[22m\u001b[22m\u001b[1m(\u001b[22m\u001b[22m::Gurobi.Model\u001b[1m)\u001b[22m\u001b[22m at \u001b[1mC:\\Users\\pbelin\\AppData\\Local\\JuliaPro-0.6.0.1\\pkgs-0.6.0.1\\v0.6\\Gurobi\\src\\grb_solve.jl:5\u001b[22m\u001b[22m\n",
      " [10] \u001b[1moptimize!\u001b[22m\u001b[22m\u001b[1m(\u001b[22m\u001b[22m::Gurobi.GurobiMathProgModel\u001b[1m)\u001b[22m\u001b[22m at \u001b[1mC:\\Users\\pbelin\\AppData\\Local\\JuliaPro-0.6.0.1\\pkgs-0.6.0.1\\v0.6\\Gurobi\\src\\GurobiSolverInterface.jl:358\u001b[22m\u001b[22m\n",
      " [11] \u001b[1m#solve#116\u001b[22m\u001b[22m\u001b[1m(\u001b[22m\u001b[22m::Bool, ::Bool, ::Bool, ::Array{Any,1}, ::Function, ::JuMP.Model\u001b[1m)\u001b[22m\u001b[22m at \u001b[1mC:\\\\\\\\\\\\\\\\\\\\\\\\\\\\\\\\\\\\\\\\\\\\\\\\\\\\\\\\\\\\\\\\\\\\\\\\\\\\\\\\\\\\\\\\\\\\\\\\\\\\\\\\\\\\Users\\pbelin\\AppData\\Local\\JuliaPro-0.6.0.1\\pkgs-0.6.0.1\\v0.6\\JuMP\\src\\solvers.jl:175\u001b[22m\u001b[22m\n",
      " [12] \u001b[1msolve\u001b[22m\u001b[22m\u001b[1m(\u001b[22m\u001b[22m::JuMP.Model\u001b[1m)\u001b[22m\u001b[22m at \u001b[1mC:\\\\\\\\\\\\\\\\\\\\\\\\\\\\\\\\\\\\\\\\\\\\\\\\\\\\\\\\\\\\\\\\\\\\\\\\\\\\\\\\\\\\\\\\\\\\\\\\\\\\\\\\\\\\Users\\pbelin\\AppData\\Local\\JuliaPro-0.6.0.1\\pkgs-0.6.0.1\\v0.6\\JuMP\\src\\solvers.jl:150\u001b[22m\u001b[22m\n",
      " [13] \u001b[1minclude_string\u001b[22m\u001b[22m\u001b[1m(\u001b[22m\u001b[22m::String, ::String\u001b[1m)\u001b[22m\u001b[22m at \u001b[1m.\\loading.jl:515\u001b[22m\u001b[22m\n",
      " [14] \u001b[1mexecute_request\u001b[22m\u001b[22m\u001b[1m(\u001b[22m\u001b[22m::ZMQ.Socket, ::IJulia.Msg\u001b[1m)\u001b[22m\u001b[22m at \u001b[1mC:\\Users\\pbelin\\AppData\\Local\\JuliaPro-0.6.0.1\\pkgs-0.6.0.1\\v0.6\\IJulia\\src\\execute_request.jl:160\u001b[22m\u001b[22m\n",
      " [15] \u001b[1meventloop\u001b[22m\u001b[22m\u001b[1m(\u001b[22m\u001b[22m::ZMQ.Socket\u001b[1m)\u001b[22m\u001b[22m at \u001b[1mC:\\Users\\pbelin\\AppData\\Local\\JuliaPro-0.6.0.1\\pkgs-0.6.0.1\\v0.6\\IJulia\\src\\eventloop.jl:8\u001b[22m\u001b[22m\n",
      " [16] \u001b[1m(::IJulia.##11#14)\u001b[22m\u001b[22m\u001b[1m(\u001b[22m\u001b[22m\u001b[1m)\u001b[22m\u001b[22m at \u001b[1m.\\task.jl:335\u001b[22m\u001b[22m\n",
      "while loading In[32], in expression starting on line 5\n"
     ]
    },
    {
     "data": {
      "text/plain": [
       ":Optimal"
      ]
     },
     "execution_count": 32,
     "metadata": {},
     "output_type": "execute_result"
    }
   ],
   "source": [
    "addcutcallback(model, userCutsCallback)\n",
    "addlazycallback(model, lazyConstraintsCallback)\n",
    "addheuristiccallback(model, userHeuristicsCallback)\n",
    "\n",
    "solve(model)"
   ]
  },
  {
   "cell_type": "markdown",
   "metadata": {},
   "source": [
    "# Conclusões e recursos adicionais\n",
    "\n",
    "Julia e JuMP são ferramentas computacionais recentes que se aproveitam das vantagens de diferentes linguagens de programação e pacotes computacioanis para melhorar o compromisso entre produtividade e eficiência computacional em relação às alternativas usuais. Embora, tanto Julia quanto JuMP, ainda não possuam uma versão 1.0 a comunidade científica tem mostrado interesse no uso e desenvolvimento de tais ferramentas (vide, por exemplo, https://julialang.org/teaching, https://julialang.org/publications e https://github.com/pedrocastellucci/MathematicalProgrammingCourse). Este tutorial tenta chamar atenção da comunidade científica e demais interessados, principalmente dos programadores matemáticos, para a linguagem Julia e mais especificamente para a biblioteca JuMP.\n",
    "\n",
    "Além das referências já mencionadas ao longo do texto, o leitor é referido ao livro Julia Programming for Operations Research: A Primer on Computing. Ao canal https://www.youtube.com/user/JuliaLanguage, onde podem ser encontradas palestras das conferências anuais de Julia (JuliaCon, realizada desde 2014) com conteúdos básicos e avançados da própria linguagem e de suas bibliotecas."
   ]
  }
 ],
 "metadata": {
  "kernelspec": {
   "display_name": "Julia 0.6.0",
   "language": "julia",
   "name": "julia-0.6"
  },
  "language_info": {
   "file_extension": ".jl",
   "mimetype": "application/julia",
   "name": "julia",
   "version": "0.6.0"
  }
 },
 "nbformat": 4,
 "nbformat_minor": 2
}
